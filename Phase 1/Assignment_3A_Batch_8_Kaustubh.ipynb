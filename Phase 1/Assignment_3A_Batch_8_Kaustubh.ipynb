{
 "cells": [
  {
   "cell_type": "markdown",
   "metadata": {
    "colab_type": "text",
    "id": "aNyZv-Ec52ot"
   },
   "source": [
    "# **Import Libraries and modules**"
   ]
  },
  {
   "cell_type": "markdown",
   "metadata": {
    "colab_type": "text",
    "id": "gL8_HvOZb1Hy"
   },
   "source": [
    "Installing keras using the pip command and importing to implement the following project"
   ]
  },
  {
   "cell_type": "code",
   "execution_count": 0,
   "metadata": {
    "colab": {
     "base_uri": "https://localhost:8080/",
     "height": 34
    },
    "colab_type": "code",
    "id": "3m3w1Cw49Zkt",
    "outputId": "6aec6c8f-98d1-449e-fe8e-7ea39629b482"
   },
   "outputs": [
    {
     "name": "stderr",
     "output_type": "stream",
     "text": [
      "Using TensorFlow backend.\n"
     ]
    }
   ],
   "source": [
    "!pip install -q keras\n",
    "import keras"
   ]
  },
  {
   "cell_type": "markdown",
   "metadata": {
    "colab_type": "text",
    "id": "KAM8Xj5XcATX"
   },
   "source": [
    "Importing necessary tools to run the program"
   ]
  },
  {
   "cell_type": "code",
   "execution_count": 0,
   "metadata": {
    "colab": {},
    "colab_type": "code",
    "id": "Eso6UHE080D4"
   },
   "outputs": [],
   "source": [
    "import numpy as np\n",
    "\n",
    "from keras.models import Sequential\n",
    "from keras.layers import *\n",
    "from keras.utils import np_utils\n",
    "\n",
    "from keras.datasets import mnist"
   ]
  },
  {
   "cell_type": "markdown",
   "metadata": {
    "colab_type": "text",
    "id": "zByEi95J86RD"
   },
   "source": [
    "### Load pre-shuffled MNIST data into train and test sets"
   ]
  },
  {
   "cell_type": "markdown",
   "metadata": {
    "colab_type": "text",
    "id": "CPLIxAwhcHQR"
   },
   "source": [
    "Loading the test and train datasets to its particular variables so that we can train the model that we want and we can test the model using the test dataset."
   ]
  },
  {
   "cell_type": "code",
   "execution_count": 0,
   "metadata": {
    "colab": {},
    "colab_type": "code",
    "id": "7eRM0QWN83PV"
   },
   "outputs": [],
   "source": [
    "(X_train, y_train), (X_test, y_test) = mnist.load_data()"
   ]
  },
  {
   "cell_type": "markdown",
   "metadata": {
    "colab_type": "text",
    "id": "jXVKfIaNc-PD"
   },
   "source": [
    "Printing the image that is stored in the first row of the dataset."
   ]
  },
  {
   "cell_type": "code",
   "execution_count": 0,
   "metadata": {
    "colab": {
     "base_uri": "https://localhost:8080/",
     "height": 299
    },
    "colab_type": "code",
    "id": "3y7enBUMcpEK",
    "outputId": "9623e98a-7a4b-4999-f3fc-a85561116984"
   },
   "outputs": [
    {
     "name": "stdout",
     "output_type": "stream",
     "text": [
      "(60000, 28, 28)\n"
     ]
    },
    {
     "data": {
      "text/plain": [
       "<matplotlib.image.AxesImage at 0x7fa445bcb940>"
      ]
     },
     "execution_count": 4,
     "metadata": {
      "tags": []
     },
     "output_type": "execute_result"
    },
    {
     "data": {
      "image/png": "[encoded data removed]",
      "text/plain": [
       "<Figure size 432x288 with 1 Axes>"
      ]
     },
     "metadata": {
      "tags": []
     },
     "output_type": "display_data"
    }
   ],
   "source": [
    "print (X_train.shape)\n",
    "from matplotlib import pyplot as plt\n",
    "%matplotlib inline\n",
    "plt.imshow(X_train[60])"
   ]
  },
  {
   "cell_type": "markdown",
   "metadata": {
    "colab_type": "text",
    "id": "XIs1n1v3dDRk"
   },
   "source": [
    "Reshaping all the values which are present in each row from **28 x 28** to **28 x 28 x 1** so that we can get multiple channels and that will help us to get the dominating features in the image. "
   ]
  },
  {
   "cell_type": "code",
   "execution_count": 0,
   "metadata": {
    "colab": {},
    "colab_type": "code",
    "id": "dkmprriw9AnZ"
   },
   "outputs": [],
   "source": [
    "X_train = X_train.reshape(X_train.shape[0], 28, 28,1)\n",
    "X_test = X_test.reshape(X_test.shape[0], 28, 28,1)"
   ]
  },
  {
   "cell_type": "markdown",
   "metadata": {
    "colab_type": "text",
    "id": "HfzR2JlYelRv"
   },
   "source": [
    "Converting all the values  of the image. At first, all the values will be in the range of 0 - 255. We are going to normalize all of this value between the range of 0 - 1 so that it becomes less heavy for calculations "
   ]
  },
  {
   "cell_type": "code",
   "execution_count": 0,
   "metadata": {
    "colab": {},
    "colab_type": "code",
    "id": "X2m4YS4E9CRh"
   },
   "outputs": [],
   "source": [
    "X_train = X_train.astype('float32')\n",
    "X_test = X_test.astype('float32')\n",
    "X_train /= 255\n",
    "X_test /= 255"
   ]
  },
  {
   "cell_type": "markdown",
   "metadata": {
    "colab_type": "text",
    "id": "WcTViAJqe5s4"
   },
   "source": [
    "Checking out the kind of values that are present in y. "
   ]
  },
  {
   "cell_type": "code",
   "execution_count": 0,
   "metadata": {
    "colab": {
     "base_uri": "https://localhost:8080/",
     "height": 34
    },
    "colab_type": "code",
    "id": "0Mn0vAYD9DvB",
    "outputId": "9df7df85-2e1d-4140-b655-92b25ee72ec5"
   },
   "outputs": [
    {
     "data": {
      "text/plain": [
       "array([5, 0, 4, 1, 9, 2, 1, 3, 1, 4], dtype=uint8)"
      ]
     },
     "execution_count": 7,
     "metadata": {
      "tags": []
     },
     "output_type": "execute_result"
    }
   ],
   "source": [
    "y_train[:10]"
   ]
  },
  {
   "cell_type": "markdown",
   "metadata": {
    "colab_type": "text",
    "id": "ATvyaWUie-i3"
   },
   "source": [
    "Performing one-hot encoding on the y data which is present. When once we perform one hot encoding, the values lie in the range of 0 - 1. "
   ]
  },
  {
   "cell_type": "markdown",
   "metadata": {
    "colab_type": "text",
    "id": "MAoc_mMjfP0r"
   },
   "source": [
    "Having the value 1 in a particular column, it indicates that the output of that row is the index value number. Basically, if 1 is present in the 0th column, then the output value is 0 but if 1 is present in the 7th column, then the output is 7"
   ]
  },
  {
   "cell_type": "code",
   "execution_count": 0,
   "metadata": {
    "colab": {},
    "colab_type": "code",
    "id": "ZG8JiXR39FHC"
   },
   "outputs": [],
   "source": [
    "# Convert 1-dimensional class arrays to 10-dimensional class matrices\n",
    "Y_train = np_utils.to_categorical(y_train, 10)\n",
    "Y_test = np_utils.to_categorical(y_test, 10)"
   ]
  },
  {
   "cell_type": "code",
   "execution_count": 0,
   "metadata": {
    "colab": {
     "base_uri": "https://localhost:8080/",
     "height": 187
    },
    "colab_type": "code",
    "id": "fYlFRvKS9HMB",
    "outputId": "2341067e-ced9-4478-ceab-2a6e5e351bcb"
   },
   "outputs": [
    {
     "data": {
      "text/plain": [
       "array([[0., 0., 0., 0., 0., 1., 0., 0., 0., 0.],\n",
       "       [1., 0., 0., 0., 0., 0., 0., 0., 0., 0.],\n",
       "       [0., 0., 0., 0., 1., 0., 0., 0., 0., 0.],\n",
       "       [0., 1., 0., 0., 0., 0., 0., 0., 0., 0.],\n",
       "       [0., 0., 0., 0., 0., 0., 0., 0., 0., 1.],\n",
       "       [0., 0., 1., 0., 0., 0., 0., 0., 0., 0.],\n",
       "       [0., 1., 0., 0., 0., 0., 0., 0., 0., 0.],\n",
       "       [0., 0., 0., 1., 0., 0., 0., 0., 0., 0.],\n",
       "       [0., 1., 0., 0., 0., 0., 0., 0., 0., 0.],\n",
       "       [0., 0., 0., 0., 1., 0., 0., 0., 0., 0.]], dtype=float32)"
      ]
     },
     "execution_count": 9,
     "metadata": {
      "tags": []
     },
     "output_type": "execute_result"
    }
   ],
   "source": [
    "Y_train[:10]"
   ]
  },
  {
   "cell_type": "code",
   "execution_count": 0,
   "metadata": {
    "colab": {
     "base_uri": "https://localhost:8080/",
     "height": 68
    },
    "colab_type": "code",
    "id": "osKqT73Q9JJB",
    "outputId": "0485210a-1642-418d-fec7-6dd14932c1ef"
   },
   "outputs": [
    {
     "name": "stdout",
     "output_type": "stream",
     "text": [
      "WARNING:tensorflow:From /usr/local/lib/python3.6/dist-packages/tensorflow/python/framework/op_def_library.py:263: colocate_with (from tensorflow.python.framework.ops) is deprecated and will be removed in a future version.\n",
      "Instructions for updating:\n",
      "Colocations handled automatically by placer.\n"
     ]
    }
   ],
   "source": [
    "from keras.layers import Activation\n",
    "model = Sequential()\n",
    "\n",
    "\n",
    "model.add(Conv2D(32, (3, 3), padding='same', activation='relu', input_shape=(28,28,1)))\n",
    "model.add(SeparableConv2D(32, (3, 3), activation='relu'))\n",
    "model.add(BatchNormalization(name='norm1'))\n",
    "model.add(MaxPooling2D(pool_size=(2, 2)))\n",
    "model.add(SeparableConv2D(32, (3, 3), activation='relu'))\n",
    "model.add(SeparableConv2D(32, (3, 3), activation='relu'))\n",
    "model.add(BatchNormalization(name='norm2'))\n",
    "model.add(MaxPooling2D(pool_size=(2, 2)))\n",
    "model.add(Conv2D(32, (3, 3), activation='relu'))\n",
    "model.add(BatchNormalization(name='norm3'))\n",
    "model.add(MaxPooling2D(pool_size=(2, 2)))\n",
    "model.add(SeparableConv2D(10, 1))\n",
    "model.add(Flatten())\n",
    "model.add(Activation('softmax'))"
   ]
  },
  {
   "cell_type": "code",
   "execution_count": 0,
   "metadata": {
    "colab": {
     "base_uri": "https://localhost:8080/",
     "height": 612
    },
    "colab_type": "code",
    "id": "TzdAYg1k9K7Z",
    "outputId": "decf06d1-849a-4f61-abbc-7f67cc09a563"
   },
   "outputs": [
    {
     "name": "stdout",
     "output_type": "stream",
     "text": [
      "_________________________________________________________________\n",
      "Layer (type)                 Output Shape              Param #   \n",
      "=================================================================\n",
      "conv2d_1 (Conv2D)            (None, 28, 28, 32)        320       \n",
      "_________________________________________________________________\n",
      "separable_conv2d_1 (Separabl (None, 26, 26, 32)        1344      \n",
      "_________________________________________________________________\n",
      "norm1 (BatchNormalization)   (None, 26, 26, 32)        128       \n",
      "_________________________________________________________________\n",
      "max_pooling2d_1 (MaxPooling2 (None, 13, 13, 32)        0         \n",
      "_________________________________________________________________\n",
      "separable_conv2d_2 (Separabl (None, 11, 11, 32)        1344      \n",
      "_________________________________________________________________\n",
      "separable_conv2d_3 (Separabl (None, 9, 9, 32)          1344      \n",
      "_________________________________________________________________\n",
      "norm2 (BatchNormalization)   (None, 9, 9, 32)          128       \n",
      "_________________________________________________________________\n",
      "max_pooling2d_2 (MaxPooling2 (None, 4, 4, 32)          0         \n",
      "_________________________________________________________________\n",
      "conv2d_2 (Conv2D)            (None, 2, 2, 32)          9248      \n",
      "_________________________________________________________________\n",
      "norm3 (BatchNormalization)   (None, 2, 2, 32)          128       \n",
      "_________________________________________________________________\n",
      "max_pooling2d_3 (MaxPooling2 (None, 1, 1, 32)          0         \n",
      "_________________________________________________________________\n",
      "separable_conv2d_4 (Separabl (None, 1, 1, 10)          362       \n",
      "_________________________________________________________________\n",
      "flatten_1 (Flatten)          (None, 10)                0         \n",
      "_________________________________________________________________\n",
      "activation_1 (Activation)    (None, 10)                0         \n",
      "=================================================================\n",
      "Total params: 14,346\n",
      "Trainable params: 14,154\n",
      "Non-trainable params: 192\n",
      "_________________________________________________________________\n"
     ]
    }
   ],
   "source": [
    "model.summary()"
   ]
  },
  {
   "cell_type": "code",
   "execution_count": 0,
   "metadata": {
    "colab": {},
    "colab_type": "code",
    "id": "Zp6SuGrL9M3h"
   },
   "outputs": [],
   "source": [
    "model.compile(loss='categorical_crossentropy',\n",
    "             optimizer='adam',\n",
    "             metrics=['accuracy'])"
   ]
  },
  {
   "cell_type": "code",
   "execution_count": 0,
   "metadata": {
    "colab": {
     "base_uri": "https://localhost:8080/",
     "height": 1122
    },
    "colab_type": "code",
    "id": "4xWoKhPY9Of5",
    "outputId": "65768039-941c-4589-aa55-b098c8251ba9"
   },
   "outputs": [
    {
     "name": "stdout",
     "output_type": "stream",
     "text": [
      "WARNING:tensorflow:From /usr/local/lib/python3.6/dist-packages/tensorflow/python/ops/math_ops.py:3066: to_int32 (from tensorflow.python.ops.math_ops) is deprecated and will be removed in a future version.\n",
      "Instructions for updating:\n",
      "Use tf.cast instead.\n"
     ]
    },
    {
     "name": "stderr",
     "output_type": "stream",
     "text": [
      "/usr/local/lib/python3.6/dist-packages/ipykernel_launcher.py:1: UserWarning: The `nb_epoch` argument in `fit` has been renamed `epochs`.\n",
      "  \"\"\"Entry point for launching an IPython kernel.\n"
     ]
    },
    {
     "name": "stdout",
     "output_type": "stream",
     "text": [
      "Epoch 1/30\n",
      "60000/60000 [==============================] - 33s 544us/step - loss: 0.1957 - acc: 0.9535\n",
      "Epoch 2/30\n",
      "60000/60000 [==============================] - 30s 503us/step - loss: 0.0528 - acc: 0.9840\n",
      "Epoch 3/30\n",
      "60000/60000 [==============================] - 30s 503us/step - loss: 0.0419 - acc: 0.9869\n",
      "Epoch 4/30\n",
      "60000/60000 [==============================] - 31s 519us/step - loss: 0.0334 - acc: 0.9894\n",
      "Epoch 5/30\n",
      "60000/60000 [==============================] - 33s 552us/step - loss: 0.0292 - acc: 0.9909\n",
      "Epoch 6/30\n",
      "60000/60000 [==============================] - 32s 536us/step - loss: 0.0256 - acc: 0.9918\n",
      "Epoch 7/30\n",
      "60000/60000 [==============================] - 31s 525us/step - loss: 0.0237 - acc: 0.9925\n",
      "Epoch 8/30\n",
      "60000/60000 [==============================] - 31s 523us/step - loss: 0.0200 - acc: 0.9936\n",
      "Epoch 9/30\n",
      "60000/60000 [==============================] - 32s 528us/step - loss: 0.0199 - acc: 0.9934\n",
      "Epoch 10/30\n",
      "60000/60000 [==============================] - 31s 516us/step - loss: 0.0177 - acc: 0.9940\n",
      "Epoch 11/30\n",
      "60000/60000 [==============================] - 31s 524us/step - loss: 0.0163 - acc: 0.9946\n",
      "Epoch 12/30\n",
      "60000/60000 [==============================] - 31s 518us/step - loss: 0.0137 - acc: 0.9954\n",
      "Epoch 13/30\n",
      "60000/60000 [==============================] - 31s 517us/step - loss: 0.0135 - acc: 0.9958\n",
      "Epoch 14/30\n",
      "60000/60000 [==============================] - 31s 519us/step - loss: 0.0135 - acc: 0.9954\n",
      "Epoch 15/30\n",
      "60000/60000 [==============================] - 31s 523us/step - loss: 0.0125 - acc: 0.9959\n",
      "Epoch 16/30\n",
      "60000/60000 [==============================] - 31s 525us/step - loss: 0.0121 - acc: 0.9958\n",
      "Epoch 17/30\n",
      "60000/60000 [==============================] - 31s 515us/step - loss: 0.0122 - acc: 0.9960\n",
      "Epoch 18/30\n",
      "60000/60000 [==============================] - 31s 511us/step - loss: 0.0096 - acc: 0.9968\n",
      "Epoch 19/30\n",
      "60000/60000 [==============================] - 31s 524us/step - loss: 0.0100 - acc: 0.9966\n",
      "Epoch 20/30\n",
      "60000/60000 [==============================] - 31s 513us/step - loss: 0.0098 - acc: 0.9968\n",
      "Epoch 21/30\n",
      "60000/60000 [==============================] - 31s 514us/step - loss: 0.0080 - acc: 0.9972\n",
      "Epoch 22/30\n",
      "60000/60000 [==============================] - 31s 520us/step - loss: 0.0086 - acc: 0.9969\n",
      "Epoch 23/30\n",
      "60000/60000 [==============================] - 31s 509us/step - loss: 0.0086 - acc: 0.9971\n",
      "Epoch 24/30\n",
      "60000/60000 [==============================] - 31s 520us/step - loss: 0.0074 - acc: 0.9975\n",
      "Epoch 25/30\n",
      "60000/60000 [==============================] - 31s 513us/step - loss: 0.0071 - acc: 0.9976\n",
      "Epoch 26/30\n",
      "60000/60000 [==============================] - 31s 516us/step - loss: 0.0064 - acc: 0.9980\n",
      "Epoch 27/30\n",
      "60000/60000 [==============================] - 31s 521us/step - loss: 0.0080 - acc: 0.9973\n",
      "Epoch 28/30\n",
      "60000/60000 [==============================] - 31s 514us/step - loss: 0.0059 - acc: 0.9982\n",
      "Epoch 29/30\n",
      "60000/60000 [==============================] - 31s 512us/step - loss: 0.0071 - acc: 0.9976\n",
      "Epoch 30/30\n",
      "60000/60000 [==============================] - 31s 516us/step - loss: 0.0055 - acc: 0.9981\n"
     ]
    }
   ],
   "source": [
    "history = model.fit(X_train, Y_train, batch_size=32, nb_epoch=30, verbose=1)"
   ]
  },
  {
   "cell_type": "code",
   "execution_count": 0,
   "metadata": {
    "colab": {
     "base_uri": "https://localhost:8080/",
     "height": 34
    },
    "colab_type": "code",
    "id": "AtsH-lLk-eLb",
    "outputId": "b26e44fe-c35a-44aa-9fa7-c2e2dcd2fd16"
   },
   "outputs": [
    {
     "name": "stdout",
     "output_type": "stream",
     "text": [
      "10000/10000 [==============================] - 1s 111us/step\n"
     ]
    }
   ],
   "source": [
    "score = model.evaluate(X_test, Y_test, verbose=1)"
   ]
  },
  {
   "cell_type": "code",
   "execution_count": 0,
   "metadata": {
    "colab": {
     "base_uri": "https://localhost:8080/",
     "height": 34
    },
    "colab_type": "code",
    "id": "mkX8JMv79q9r",
    "outputId": "b7ed981a-d695-4df0-a4de-9ee191199e2b"
   },
   "outputs": [
    {
     "name": "stdout",
     "output_type": "stream",
     "text": [
      "[0.026070794086627075, 0.9934]\n"
     ]
    }
   ],
   "source": [
    "print(score)"
   ]
  },
  {
   "cell_type": "code",
   "execution_count": 0,
   "metadata": {
    "colab": {},
    "colab_type": "code",
    "id": "OCWoJkwE9suh"
   },
   "outputs": [],
   "source": [
    "y_pred = model.predict(X_test)"
   ]
  },
  {
   "cell_type": "code",
   "execution_count": 0,
   "metadata": {
    "colab": {
     "base_uri": "https://localhost:8080/",
     "height": 493
    },
    "colab_type": "code",
    "id": "Ym7iCFBm9uBs",
    "outputId": "748c6270-774e-413a-b7f1-6aa41d2112f6"
   },
   "outputs": [
    {
     "name": "stdout",
     "output_type": "stream",
     "text": [
      "[[6.27973151e-12 2.00369854e-09 3.49908305e-06 2.19668635e-07\n",
      "  1.15514662e-12 1.95691033e-12 4.11805572e-13 9.99995828e-01\n",
      "  3.12518278e-09 4.25880160e-07]\n",
      " [1.83616303e-10 2.29200253e-11 1.00000000e+00 5.89152772e-12\n",
      "  1.59980330e-12 1.02979883e-19 1.08484458e-10 2.61567634e-12\n",
      "  4.88491626e-13 2.35104514e-12]\n",
      " [2.84958758e-11 9.99999762e-01 3.91124522e-10 9.78922499e-11\n",
      "  1.25416861e-07 3.35635603e-10 8.25269524e-08 2.73542700e-09\n",
      "  1.69579231e-08 1.33692890e-10]\n",
      " [9.99995470e-01 3.35610608e-13 6.27946084e-10 5.36787249e-13\n",
      "  2.60284280e-13 6.05836839e-11 9.81727766e-09 2.29157600e-08\n",
      "  1.11551664e-10 4.50940206e-06]\n",
      " [1.40522816e-20 1.48104690e-16 3.88363998e-16 3.85422201e-18\n",
      "  1.00000000e+00 1.21678043e-16 2.32925971e-15 6.52257853e-17\n",
      "  5.56311851e-17 7.08834796e-11]\n",
      " [8.54388504e-11 9.99999762e-01 2.29790942e-09 2.89761080e-11\n",
      "  9.82989761e-08 7.48108606e-12 2.34184316e-08 1.11934682e-07\n",
      "  8.71396910e-09 3.83003851e-10]\n",
      " [2.59302921e-22 1.46037132e-17 2.94198283e-18 2.88817555e-17\n",
      "  9.99999046e-01 1.13763559e-13 3.02167126e-17 5.06964154e-13\n",
      "  7.56631077e-11 9.90368562e-07]\n",
      " [1.85867722e-16 6.04413505e-14 1.58667302e-08 1.17569097e-11\n",
      "  7.41685108e-06 1.81575744e-11 1.89530423e-12 3.83651227e-13\n",
      "  4.94699615e-10 9.99992609e-01]\n",
      " [5.37321632e-10 1.16109821e-17 1.34761603e-11 1.21378824e-10\n",
      "  1.59195629e-10 9.99999046e-01 8.58844373e-07 1.37684173e-16\n",
      "  1.44134802e-07 3.34753086e-10]]\n",
      "[7 2 1 0 4 1 4 9 5]\n"
     ]
    }
   ],
   "source": [
    "print(y_pred[:9])\n",
    "print(y_test[:9])"
   ]
  },
  {
   "cell_type": "code",
   "execution_count": 0,
   "metadata": {
    "colab": {},
    "colab_type": "code",
    "id": "CT--y98_dr2T"
   },
   "outputs": [],
   "source": [
    "layer_dict = dict([(layer.name, layer) for layer in model.layers])"
   ]
  },
  {
   "cell_type": "code",
   "execution_count": 0,
   "metadata": {
    "colab": {
     "base_uri": "https://localhost:8080/",
     "height": 839
    },
    "colab_type": "code",
    "id": "2GY4Upv4dsUR",
    "outputId": "4cfec38c-d6b7-4406-d1e1-51af7f323f8f"
   },
   "outputs": [
    {
     "data": {
      "image/png": "[encoded data removed]",
      "text/plain": [
       "<Figure size 864x864 with 24 Axes>"
      ]
     },
     "metadata": {
      "tags": []
     },
     "output_type": "display_data"
    }
   ],
   "source": [
    "import numpy as np\n",
    "from matplotlib import pyplot as plt\n",
    "from keras import backend as K\n",
    "%matplotlib inline\n",
    "# util function to convert a tensor into a valid image\n",
    "def deprocess_image(x):\n",
    "    # normalize tensor: center on 0., ensure std is 0.1\n",
    "    x -= x.mean()\n",
    "    x /= (x.std() + 1e-5)\n",
    "    x *= 0.1\n",
    "\n",
    "    # clip to [0, 1]\n",
    "    x += 0.5\n",
    "    x = np.clip(x, 0, 1)\n",
    "\n",
    "    # convert to RGB array\n",
    "    x *= 255\n",
    "    #x = x.transpose((1, 2, 0))\n",
    "    x = np.clip(x, 0, 255).astype('uint8')\n",
    "    return x\n",
    "\n",
    "def vis_img_in_filter(img = np.array(X_train[2]).reshape((1, 28, 28, 1)).astype(np.float64), \n",
    "                      layer_name = 'conv2d_1'):\n",
    "    layer_output = layer_dict[layer_name].output\n",
    "    img_ascs = list()\n",
    "    for filter_index in range(layer_output.shape[3]):\n",
    "        # build a loss function that maximizes the activation\n",
    "        # of the nth filter of the layer considered\n",
    "        loss = K.mean(layer_output[:, :, :, filter_index])\n",
    "\n",
    "        # compute the gradient of the input picture wrt this loss\n",
    "        grads = K.gradients(loss, model.input)[0]\n",
    "\n",
    "        # normalization trick: we normalize the gradient\n",
    "        grads /= (K.sqrt(K.mean(K.square(grads))) + 1e-5)\n",
    "\n",
    "        # this function returns the loss and grads given the input picture\n",
    "        iterate = K.function([model.input], [loss, grads])\n",
    "\n",
    "        # step size for gradient ascent\n",
    "        step = 5.\n",
    "\n",
    "        img_asc = np.array(img)\n",
    "        # run gradient ascent for 20 steps\n",
    "        for i in range(20):\n",
    "            loss_value, grads_value = iterate([img_asc])\n",
    "            img_asc += grads_value * step\n",
    "\n",
    "        img_asc = img_asc[0]\n",
    "        img_ascs.append(deprocess_image(img_asc).reshape((28, 28)))\n",
    "        \n",
    "    if layer_output.shape[3] >= 35:\n",
    "        plot_x, plot_y = 6, 6\n",
    "    elif layer_output.shape[3] >= 23:\n",
    "        plot_x, plot_y = 4, 6\n",
    "    elif layer_output.shape[3] >= 11:\n",
    "        plot_x, plot_y = 2, 6\n",
    "    else:\n",
    "        plot_x, plot_y = 1, 2\n",
    "    fig, ax = plt.subplots(plot_x, plot_y, figsize = (12, 12))\n",
    "    ax[0, 0].imshow(img.reshape((28, 28)), cmap = 'gray')\n",
    "    ax[0, 0].set_title('Input image')\n",
    "    fig.suptitle('Input image and %s filters' % (layer_name,))\n",
    "    fig.tight_layout(pad = 0.3, rect = [0, 0, 0.9, 0.9])\n",
    "    for (x, y) in [(i, j) for i in range(plot_x) for j in range(plot_y)]:\n",
    "        if x == 0 and y == 0:\n",
    "            continue\n",
    "        ax[x, y].imshow(img_ascs[x * plot_y + y - 1], cmap = 'gray')\n",
    "        ax[x, y].set_title('filter %d' % (x * plot_y + y - 1))\n",
    "\n",
    "vis_img_in_filter()"
   ]
  },
  {
   "cell_type": "code",
   "execution_count": 0,
   "metadata": {
    "colab": {},
    "colab_type": "code",
    "id": "9tvptcn8dxvp"
   },
   "outputs": [],
   "source": []
  }
 ],
 "metadata": {
  "accelerator": "GPU",
  "colab": {
   "collapsed_sections": [],
   "name": "Assignment 3A - Batch 8 - Kaustubh.ipynb",
   "provenance": [],
   "version": "0.3.2"
  },
  "kernelspec": {
   "display_name": "Python 3",
   "language": "python",
   "name": "python3"
  },
  "language_info": {
   "codemirror_mode": {
    "name": "ipython",
    "version": 3
   },
   "file_extension": ".py",
   "mimetype": "text/x-python",
   "name": "python",
   "nbconvert_exporter": "python",
   "pygments_lexer": "ipython3",
   "version": "3.6.8"
  },
  "varInspector": {
   "cols": {
    "lenName": 16,
    "lenType": 16,
    "lenVar": 40
   },
   "kernels_config": {
    "python": {
     "delete_cmd_postfix": "",
     "delete_cmd_prefix": "del ",
     "library": "var_list.py",
     "varRefreshCmd": "print(var_dic_list())"
    },
    "r": {
     "delete_cmd_postfix": ") ",
     "delete_cmd_prefix": "rm(",
     "library": "var_list.r",
     "varRefreshCmd": "cat(var_dic_list()) "
    }
   },
   "types_to_exclude": [
    "module",
    "function",
    "builtin_function_or_method",
    "instance",
    "_Feature"
   ],
   "window_display": false
  }
 },
 "nbformat": 4,
 "nbformat_minor": 1
}
