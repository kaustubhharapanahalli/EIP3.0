{
 "cells": [
  {
   "cell_type": "markdown",
   "metadata": {
    "colab_type": "text",
    "id": "aNyZv-Ec52ot"
   },
   "source": [
    "# **Import Libraries and modules**"
   ]
  },
  {
   "cell_type": "markdown",
   "metadata": {
    "colab_type": "text",
    "id": "gL8_HvOZb1Hy"
   },
   "source": [
    "Installing keras using the pip command and importing to implement the following project"
   ]
  },
  {
   "cell_type": "code",
   "execution_count": 0,
   "metadata": {
    "colab": {
     "base_uri": "https://localhost:8080/",
     "height": 34
    },
    "colab_type": "code",
    "id": "3m3w1Cw49Zkt",
    "outputId": "86140d1e-6c10-452f-98c2-984b923f573e"
   },
   "outputs": [
    {
     "name": "stderr",
     "output_type": "stream",
     "text": [
      "Using TensorFlow backend.\n"
     ]
    }
   ],
   "source": [
    "!pip install -q keras\n",
    "import keras"
   ]
  },
  {
   "cell_type": "markdown",
   "metadata": {
    "colab_type": "text",
    "id": "KAM8Xj5XcATX"
   },
   "source": [
    "Importing necessary tools to run the program"
   ]
  },
  {
   "cell_type": "code",
   "execution_count": 0,
   "metadata": {
    "colab": {},
    "colab_type": "code",
    "id": "Eso6UHE080D4"
   },
   "outputs": [],
   "source": [
    "import numpy as np\n",
    "\n",
    "from keras.models import Sequential\n",
    "from keras.layers import Dense, Dropout, Activation, Flatten, Add\n",
    "from keras.layers import Convolution2D, MaxPooling2D\n",
    "from keras.utils import np_utils\n",
    "\n",
    "from keras.datasets import mnist"
   ]
  },
  {
   "cell_type": "markdown",
   "metadata": {
    "colab_type": "text",
    "id": "zByEi95J86RD"
   },
   "source": [
    "### Load pre-shuffled MNIST data into train and test sets"
   ]
  },
  {
   "cell_type": "markdown",
   "metadata": {
    "colab_type": "text",
    "id": "CPLIxAwhcHQR"
   },
   "source": [
    "Loading the test and train datasets to its particular variables so that we can train the model that we want and we can test the model using the test dataset."
   ]
  },
  {
   "cell_type": "code",
   "execution_count": 0,
   "metadata": {
    "colab": {},
    "colab_type": "code",
    "id": "7eRM0QWN83PV"
   },
   "outputs": [],
   "source": [
    "(X_train, y_train), (X_test, y_test) = mnist.load_data()"
   ]
  },
  {
   "cell_type": "markdown",
   "metadata": {
    "colab_type": "text",
    "id": "jXVKfIaNc-PD"
   },
   "source": [
    "Printing the image that is stored in the first row of the dataset."
   ]
  },
  {
   "cell_type": "code",
   "execution_count": 0,
   "metadata": {
    "colab": {
     "base_uri": "https://localhost:8080/",
     "height": 299
    },
    "colab_type": "code",
    "id": "3y7enBUMcpEK",
    "outputId": "be9adf53-a791-4b78-e4f2-513188ddfd34"
   },
   "outputs": [
    {
     "name": "stdout",
     "output_type": "stream",
     "text": [
      "(60000, 28, 28)\n"
     ]
    },
    {
     "data": {
      "text/plain": [
       "<matplotlib.image.AxesImage at 0x7fed90539518>"
      ]
     },
     "execution_count": 4,
     "metadata": {
      "tags": []
     },
     "output_type": "execute_result"
    },
    {
     "data": {
      "image/png": "[encoded data removed]",
      "text/plain": [
       "<Figure size 432x288 with 1 Axes>"
      ]
     },
     "metadata": {
      "tags": []
     },
     "output_type": "display_data"
    }
   ],
   "source": [
    "print (X_train.shape)\n",
    "from matplotlib import pyplot as plt\n",
    "%matplotlib inline\n",
    "plt.imshow(X_train[0])"
   ]
  },
  {
   "cell_type": "markdown",
   "metadata": {
    "colab_type": "text",
    "id": "XIs1n1v3dDRk"
   },
   "source": [
    "Reshaping all the values which are present in each row from **28 x 28** to **28 x 28 x 1** so that we can get multiple channels and that will help us to get the dominating features in the image. "
   ]
  },
  {
   "cell_type": "code",
   "execution_count": 0,
   "metadata": {
    "colab": {},
    "colab_type": "code",
    "id": "dkmprriw9AnZ"
   },
   "outputs": [],
   "source": [
    "X_train = X_train.reshape(X_train.shape[0], 28, 28,1)\n",
    "X_test = X_test.reshape(X_test.shape[0], 28, 28,1)"
   ]
  },
  {
   "cell_type": "markdown",
   "metadata": {
    "colab_type": "text",
    "id": "HfzR2JlYelRv"
   },
   "source": [
    "Converting all the values  of the image. At first, all the values will be in the range of 0 - 255. We are going to normalize all of this value between the range of 0 - 1 so that it becomes less heavy for calculations "
   ]
  },
  {
   "cell_type": "code",
   "execution_count": 0,
   "metadata": {
    "colab": {},
    "colab_type": "code",
    "id": "X2m4YS4E9CRh"
   },
   "outputs": [],
   "source": [
    "X_train = X_train.astype('float32')\n",
    "X_test = X_test.astype('float32')\n",
    "X_train /= 255\n",
    "X_test /= 255"
   ]
  },
  {
   "cell_type": "markdown",
   "metadata": {
    "colab_type": "text",
    "id": "WcTViAJqe5s4"
   },
   "source": [
    "Checking out the kind of values that are present in y. "
   ]
  },
  {
   "cell_type": "code",
   "execution_count": 0,
   "metadata": {
    "colab": {
     "base_uri": "https://localhost:8080/",
     "height": 34
    },
    "colab_type": "code",
    "id": "0Mn0vAYD9DvB",
    "outputId": "300ba523-b45c-4160-f22e-4ff33288a10f"
   },
   "outputs": [
    {
     "data": {
      "text/plain": [
       "array([5, 0, 4, 1, 9, 2, 1, 3, 1, 4], dtype=uint8)"
      ]
     },
     "execution_count": 7,
     "metadata": {
      "tags": []
     },
     "output_type": "execute_result"
    }
   ],
   "source": [
    "y_train[:10]"
   ]
  },
  {
   "cell_type": "markdown",
   "metadata": {
    "colab_type": "text",
    "id": "ATvyaWUie-i3"
   },
   "source": [
    "Performing one-hot encoding on the y data which is present. When once we perform one hot encoding, the values lie in the range of 0 - 1. "
   ]
  },
  {
   "cell_type": "markdown",
   "metadata": {
    "colab_type": "text",
    "id": "MAoc_mMjfP0r"
   },
   "source": [
    "Having the value 1 in a particular column, it indicates that the output of that row is the index value number. Basically, if 1 is present in the 0th column, then the output value is 0 but if 1 is present in the 7th column, then the output is 7"
   ]
  },
  {
   "cell_type": "code",
   "execution_count": 0,
   "metadata": {
    "colab": {},
    "colab_type": "code",
    "id": "ZG8JiXR39FHC"
   },
   "outputs": [],
   "source": [
    "# Convert 1-dimensional class arrays to 10-dimensional class matrices\n",
    "Y_train = np_utils.to_categorical(y_train, 10)\n",
    "Y_test = np_utils.to_categorical(y_test, 10)"
   ]
  },
  {
   "cell_type": "code",
   "execution_count": 0,
   "metadata": {
    "colab": {
     "base_uri": "https://localhost:8080/",
     "height": 187
    },
    "colab_type": "code",
    "id": "fYlFRvKS9HMB",
    "outputId": "acdd4d36-978d-426f-ab8c-864719febe06"
   },
   "outputs": [
    {
     "data": {
      "text/plain": [
       "array([[0., 0., 0., 0., 0., 1., 0., 0., 0., 0.],\n",
       "       [1., 0., 0., 0., 0., 0., 0., 0., 0., 0.],\n",
       "       [0., 0., 0., 0., 1., 0., 0., 0., 0., 0.],\n",
       "       [0., 1., 0., 0., 0., 0., 0., 0., 0., 0.],\n",
       "       [0., 0., 0., 0., 0., 0., 0., 0., 0., 1.],\n",
       "       [0., 0., 1., 0., 0., 0., 0., 0., 0., 0.],\n",
       "       [0., 1., 0., 0., 0., 0., 0., 0., 0., 0.],\n",
       "       [0., 0., 0., 1., 0., 0., 0., 0., 0., 0.],\n",
       "       [0., 1., 0., 0., 0., 0., 0., 0., 0., 0.],\n",
       "       [0., 0., 0., 0., 1., 0., 0., 0., 0., 0.]], dtype=float32)"
      ]
     },
     "execution_count": 9,
     "metadata": {
      "tags": []
     },
     "output_type": "execute_result"
    }
   ],
   "source": [
    "Y_train[:10]"
   ]
  },
  {
   "cell_type": "code",
   "execution_count": 0,
   "metadata": {
    "colab": {
     "base_uri": "https://localhost:8080/",
     "height": 102
    },
    "colab_type": "code",
    "id": "osKqT73Q9JJB",
    "outputId": "942cc196-f4eb-4809-9dd8-e7a1c95c1a9e"
   },
   "outputs": [
    {
     "name": "stdout",
     "output_type": "stream",
     "text": [
      "WARNING:tensorflow:From /usr/local/lib/python3.6/dist-packages/tensorflow/python/framework/op_def_library.py:263: colocate_with (from tensorflow.python.framework.ops) is deprecated and will be removed in a future version.\n",
      "Instructions for updating:\n",
      "Colocations handled automatically by placer.\n"
     ]
    },
    {
     "name": "stderr",
     "output_type": "stream",
     "text": [
      "/usr/local/lib/python3.6/dist-packages/ipykernel_launcher.py:5: UserWarning: Update your `Conv2D` call to the Keras 2 API: `Conv2D(32, (3, 3), activation=\"relu\", input_shape=(28, 28, 1..., padding=\"same\")`\n",
      "  \"\"\"\n"
     ]
    }
   ],
   "source": [
    "from keras.layers import Activation\n",
    "model = Sequential()\n",
    "\n",
    " \n",
    "model.add(Convolution2D(32, (3, 3), activation='relu', input_shape=(28,28,1), border_mode='same')) # 28\n",
    "model.add(Convolution2D(64, (3, 3), activation='relu')) # 26 \n",
    "model.add(Convolution2D(32, 1, activation='relu')) # 26\n",
    "model.add(MaxPooling2D(pool_size=(2, 2)))\n",
    "model.add(Convolution2D(32, (3, 3), activation='relu')) # 11\n",
    "model.add(MaxPooling2D(pool_size=(2, 2)))\n",
    "model.add(Convolution2D(32, (3, 3), activation='relu')) # 9\n",
    "model.add(Convolution2D(32, (3, 3), activation='relu'))\n",
    "model.add(Convolution2D(10, 1))\n",
    "model.add(Flatten())\n",
    "model.add(Activation('softmax'))"
   ]
  },
  {
   "cell_type": "code",
   "execution_count": 0,
   "metadata": {
    "colab": {
     "base_uri": "https://localhost:8080/",
     "height": 510
    },
    "colab_type": "code",
    "id": "TzdAYg1k9K7Z",
    "outputId": "6ab89470-f9c2-49cc-8343-c792b7bea977"
   },
   "outputs": [
    {
     "name": "stdout",
     "output_type": "stream",
     "text": [
      "_________________________________________________________________\n",
      "Layer (type)                 Output Shape              Param #   \n",
      "=================================================================\n",
      "conv2d_1 (Conv2D)            (None, 28, 28, 32)        320       \n",
      "_________________________________________________________________\n",
      "conv2d_2 (Conv2D)            (None, 26, 26, 64)        18496     \n",
      "_________________________________________________________________\n",
      "conv2d_3 (Conv2D)            (None, 26, 26, 32)        2080      \n",
      "_________________________________________________________________\n",
      "max_pooling2d_1 (MaxPooling2 (None, 13, 13, 32)        0         \n",
      "_________________________________________________________________\n",
      "conv2d_4 (Conv2D)            (None, 11, 11, 32)        9248      \n",
      "_________________________________________________________________\n",
      "max_pooling2d_2 (MaxPooling2 (None, 5, 5, 32)          0         \n",
      "_________________________________________________________________\n",
      "conv2d_5 (Conv2D)            (None, 3, 3, 32)          9248      \n",
      "_________________________________________________________________\n",
      "conv2d_6 (Conv2D)            (None, 1, 1, 32)          9248      \n",
      "_________________________________________________________________\n",
      "conv2d_7 (Conv2D)            (None, 1, 1, 10)          330       \n",
      "_________________________________________________________________\n",
      "flatten_1 (Flatten)          (None, 10)                0         \n",
      "_________________________________________________________________\n",
      "activation_1 (Activation)    (None, 10)                0         \n",
      "=================================================================\n",
      "Total params: 48,970\n",
      "Trainable params: 48,970\n",
      "Non-trainable params: 0\n",
      "_________________________________________________________________\n"
     ]
    }
   ],
   "source": [
    "model.summary()"
   ]
  },
  {
   "cell_type": "code",
   "execution_count": 0,
   "metadata": {
    "colab": {},
    "colab_type": "code",
    "id": "Zp6SuGrL9M3h"
   },
   "outputs": [],
   "source": [
    "model.compile(loss='categorical_crossentropy',\n",
    "             optimizer='adam',\n",
    "             metrics=['accuracy'])"
   ]
  },
  {
   "cell_type": "code",
   "execution_count": 0,
   "metadata": {
    "colab": {
     "base_uri": "https://localhost:8080/",
     "height": 986
    },
    "colab_type": "code",
    "id": "4xWoKhPY9Of5",
    "outputId": "97d27101-d996-4f07-945d-3a07c02f7ec2"
   },
   "outputs": [
    {
     "name": "stdout",
     "output_type": "stream",
     "text": [
      "WARNING:tensorflow:From /usr/local/lib/python3.6/dist-packages/tensorflow/python/ops/math_ops.py:3066: to_int32 (from tensorflow.python.ops.math_ops) is deprecated and will be removed in a future version.\n",
      "Instructions for updating:\n",
      "Use tf.cast instead.\n"
     ]
    },
    {
     "name": "stderr",
     "output_type": "stream",
     "text": [
      "/usr/local/lib/python3.6/dist-packages/ipykernel_launcher.py:1: UserWarning: The `nb_epoch` argument in `fit` has been renamed `epochs`.\n",
      "  \"\"\"Entry point for launching an IPython kernel.\n"
     ]
    },
    {
     "name": "stdout",
     "output_type": "stream",
     "text": [
      "Train on 48000 samples, validate on 12000 samples\n",
      "Epoch 1/25\n",
      "48000/48000 [==============================] - 21s 443us/step - loss: 0.2037 - acc: 0.9349 - val_loss: 0.0658 - val_acc: 0.9808\n",
      "Epoch 2/25\n",
      "48000/48000 [==============================] - 20s 410us/step - loss: 0.0585 - acc: 0.9820 - val_loss: 0.0568 - val_acc: 0.9829\n",
      "Epoch 3/25\n",
      "48000/48000 [==============================] - 19s 404us/step - loss: 0.0425 - acc: 0.9867 - val_loss: 0.0438 - val_acc: 0.9884\n",
      "Epoch 4/25\n",
      "48000/48000 [==============================] - 20s 412us/step - loss: 0.0340 - acc: 0.9894 - val_loss: 0.0558 - val_acc: 0.9838\n",
      "Epoch 5/25\n",
      "48000/48000 [==============================] - 19s 403us/step - loss: 0.0270 - acc: 0.9915 - val_loss: 0.0399 - val_acc: 0.9877\n",
      "Epoch 6/25\n",
      "48000/48000 [==============================] - 20s 407us/step - loss: 0.0226 - acc: 0.9926 - val_loss: 0.0493 - val_acc: 0.9854\n",
      "Epoch 7/25\n",
      "48000/48000 [==============================] - 19s 396us/step - loss: 0.0211 - acc: 0.9932 - val_loss: 0.0354 - val_acc: 0.9905\n",
      "Epoch 8/25\n",
      "48000/48000 [==============================] - 19s 404us/step - loss: 0.0173 - acc: 0.9938 - val_loss: 0.0492 - val_acc: 0.9872\n",
      "Epoch 9/25\n",
      "48000/48000 [==============================] - 19s 403us/step - loss: 0.0154 - acc: 0.9950 - val_loss: 0.0463 - val_acc: 0.9888\n",
      "Epoch 10/25\n",
      "48000/48000 [==============================] - 19s 403us/step - loss: 0.0144 - acc: 0.9952 - val_loss: 0.0502 - val_acc: 0.9864\n",
      "Epoch 11/25\n",
      "48000/48000 [==============================] - 19s 403us/step - loss: 0.0114 - acc: 0.9961 - val_loss: 0.0447 - val_acc: 0.9886\n",
      "Epoch 12/25\n",
      "48000/48000 [==============================] - 19s 403us/step - loss: 0.0125 - acc: 0.9958 - val_loss: 0.0433 - val_acc: 0.9908\n",
      "Epoch 13/25\n",
      "48000/48000 [==============================] - 19s 403us/step - loss: 0.0100 - acc: 0.9966 - val_loss: 0.0386 - val_acc: 0.9910\n",
      "Epoch 14/25\n",
      "48000/48000 [==============================] - 19s 393us/step - loss: 0.0087 - acc: 0.9972 - val_loss: 0.0484 - val_acc: 0.9905\n",
      "Epoch 15/25\n",
      "48000/48000 [==============================] - 19s 393us/step - loss: 0.0098 - acc: 0.9966 - val_loss: 0.0547 - val_acc: 0.9882\n",
      "Epoch 16/25\n",
      "48000/48000 [==============================] - 19s 396us/step - loss: 0.0083 - acc: 0.9972 - val_loss: 0.0400 - val_acc: 0.9915\n",
      "Epoch 17/25\n",
      "48000/48000 [==============================] - 19s 394us/step - loss: 0.0076 - acc: 0.9975 - val_loss: 0.0471 - val_acc: 0.9908\n",
      "Epoch 18/25\n",
      "48000/48000 [==============================] - 19s 391us/step - loss: 0.0078 - acc: 0.9974 - val_loss: 0.0403 - val_acc: 0.9903\n",
      "Epoch 19/25\n",
      "48000/48000 [==============================] - 19s 395us/step - loss: 0.0074 - acc: 0.9977 - val_loss: 0.0467 - val_acc: 0.9909\n",
      "Epoch 20/25\n",
      "48000/48000 [==============================] - 19s 394us/step - loss: 0.0069 - acc: 0.9978 - val_loss: 0.0570 - val_acc: 0.9885\n",
      "Epoch 21/25\n",
      "48000/48000 [==============================] - 19s 394us/step - loss: 0.0065 - acc: 0.9980 - val_loss: 0.0430 - val_acc: 0.9921\n",
      "Epoch 22/25\n",
      "48000/48000 [==============================] - 19s 399us/step - loss: 0.0067 - acc: 0.9978 - val_loss: 0.0427 - val_acc: 0.9914\n",
      "Epoch 23/25\n",
      "48000/48000 [==============================] - 19s 401us/step - loss: 0.0071 - acc: 0.9976 - val_loss: 0.0374 - val_acc: 0.9921\n",
      "Epoch 24/25\n",
      "48000/48000 [==============================] - 20s 419us/step - loss: 0.0058 - acc: 0.9979 - val_loss: 0.0434 - val_acc: 0.9909\n",
      "Epoch 25/25\n",
      "48000/48000 [==============================] - 19s 397us/step - loss: 0.0050 - acc: 0.9984 - val_loss: 0.0455 - val_acc: 0.9918\n"
     ]
    },
    {
     "data": {
      "text/plain": [
       "<keras.callbacks.History at 0x7fed8e4955f8>"
      ]
     },
     "execution_count": 13,
     "metadata": {
      "tags": []
     },
     "output_type": "execute_result"
    }
   ],
   "source": [
    "model.fit(X_train, Y_train, batch_size=32, nb_epoch=25, verbose=1, validation_split=0.2)"
   ]
  },
  {
   "cell_type": "code",
   "execution_count": 0,
   "metadata": {
    "colab": {},
    "colab_type": "code",
    "id": "AtsH-lLk-eLb"
   },
   "outputs": [],
   "source": [
    "score = model.evaluate(X_test, Y_test, verbose=0)"
   ]
  },
  {
   "cell_type": "code",
   "execution_count": 0,
   "metadata": {
    "colab": {
     "base_uri": "https://localhost:8080/",
     "height": 34
    },
    "colab_type": "code",
    "id": "mkX8JMv79q9r",
    "outputId": "da9d6718-083c-4113-8564-27fd29cf123f"
   },
   "outputs": [
    {
     "name": "stdout",
     "output_type": "stream",
     "text": [
      "[0.039988077734033914, 0.9918]\n"
     ]
    }
   ],
   "source": [
    "print(score)"
   ]
  },
  {
   "cell_type": "code",
   "execution_count": 0,
   "metadata": {
    "colab": {},
    "colab_type": "code",
    "id": "OCWoJkwE9suh"
   },
   "outputs": [],
   "source": [
    "y_pred = model.predict(X_test)"
   ]
  },
  {
   "cell_type": "code",
   "execution_count": 0,
   "metadata": {
    "colab": {
     "base_uri": "https://localhost:8080/",
     "height": 340
    },
    "colab_type": "code",
    "id": "Ym7iCFBm9uBs",
    "outputId": "30e42e88-de7c-408d-9135-72939a61e7b0"
   },
   "outputs": [
    {
     "name": "stdout",
     "output_type": "stream",
     "text": [
      "[[1.0791335e-19 2.3716131e-13 1.0397503e-11 9.3622516e-13 1.0483143e-16\n",
      "  8.8659236e-18 1.3626180e-27 1.0000000e+00 1.9595114e-15 4.3143067e-12]\n",
      " [2.6957696e-23 4.2621580e-15 1.0000000e+00 1.4138925e-25 1.7375299e-28\n",
      "  1.4243521e-24 5.9040062e-22 1.8605741e-20 6.3237765e-26 1.9104977e-26]\n",
      " [6.2599919e-15 1.0000000e+00 1.6565979e-12 4.6969213e-19 9.9613846e-14\n",
      "  1.3251222e-13 6.5114446e-16 2.0190437e-10 2.3165881e-15 5.8256766e-16]\n",
      " [1.0000000e+00 2.8238808e-16 1.5131783e-13 3.0379494e-12 4.8910035e-17\n",
      "  1.2773008e-11 7.8090974e-09 6.3016549e-12 3.0112812e-11 2.2598180e-12]\n",
      " [1.5926907e-20 1.1012184e-21 1.4843472e-20 9.4805389e-22 1.0000000e+00\n",
      "  1.2311252e-21 3.4879647e-20 7.3980661e-19 2.9368627e-17 2.4749872e-14]\n",
      " [6.3276305e-13 1.0000000e+00 1.9405725e-11 3.9958188e-18 1.2250125e-12\n",
      "  1.7506208e-12 1.2141342e-14 1.0430029e-09 2.2239829e-14 2.8825636e-14]\n",
      " [3.2349655e-16 1.4260740e-07 1.1156237e-10 1.0314127e-15 9.9999988e-01\n",
      "  5.3624605e-10 5.1606554e-15 1.9297865e-08 1.3461542e-09 5.9099198e-11]\n",
      " [1.5597271e-16 1.1651746e-21 2.4307066e-18 8.8961228e-15 6.3437935e-15\n",
      "  6.7353358e-15 2.4331615e-21 2.3134154e-17 1.4781885e-08 1.0000000e+00]\n",
      " [3.1448198e-11 6.4040315e-13 1.4415698e-08 2.2897023e-14 5.6928682e-16\n",
      "  9.9993396e-01 6.5584522e-05 2.3968102e-11 4.4070430e-07 7.0455677e-08]]\n",
      "[7 2 1 0 4 1 4 9 5]\n"
     ]
    }
   ],
   "source": [
    "print(y_pred[:9])\n",
    "print(y_test[:9])"
   ]
  },
  {
   "cell_type": "code",
   "execution_count": 0,
   "metadata": {
    "colab": {},
    "colab_type": "code",
    "id": "CT--y98_dr2T"
   },
   "outputs": [],
   "source": [
    "layer_dict = dict([(layer.name, layer) for layer in model.layers])"
   ]
  },
  {
   "cell_type": "code",
   "execution_count": 0,
   "metadata": {
    "colab": {
     "base_uri": "https://localhost:8080/",
     "height": 839
    },
    "colab_type": "code",
    "id": "2GY4Upv4dsUR",
    "outputId": "06af4868-1ff2-4843-80c4-2cde71475da3"
   },
   "outputs": [
    {
     "data": {
      "image/png": "[encoded data removed]",
      "text/plain": [
       "<Figure size 864x864 with 24 Axes>"
      ]
     },
     "metadata": {
      "tags": []
     },
     "output_type": "display_data"
    }
   ],
   "source": [
    "import numpy as np\n",
    "from matplotlib import pyplot as plt\n",
    "from keras import backend as K\n",
    "%matplotlib inline\n",
    "# util function to convert a tensor into a valid image\n",
    "def deprocess_image(x):\n",
    "    # normalize tensor: center on 0., ensure std is 0.1\n",
    "    x -= x.mean()\n",
    "    x /= (x.std() + 1e-5)\n",
    "    x *= 0.1\n",
    "\n",
    "    # clip to [0, 1]\n",
    "    x += 0.5\n",
    "    x = np.clip(x, 0, 1)\n",
    "\n",
    "    # convert to RGB array\n",
    "    x *= 255\n",
    "    #x = x.transpose((1, 2, 0))\n",
    "    x = np.clip(x, 0, 255).astype('uint8')\n",
    "    return x\n",
    "\n",
    "def vis_img_in_filter(img = np.array(X_train[2]).reshape((1, 28, 28, 1)).astype(np.float64), \n",
    "                      layer_name = 'conv2d_1'):\n",
    "    layer_output = layer_dict[layer_name].output\n",
    "    img_ascs = list()\n",
    "    for filter_index in range(layer_output.shape[3]):\n",
    "        # build a loss function that maximizes the activation\n",
    "        # of the nth filter of the layer considered\n",
    "        loss = K.mean(layer_output[:, :, :, filter_index])\n",
    "\n",
    "        # compute the gradient of the input picture wrt this loss\n",
    "        grads = K.gradients(loss, model.input)[0]\n",
    "\n",
    "        # normalization trick: we normalize the gradient\n",
    "        grads /= (K.sqrt(K.mean(K.square(grads))) + 1e-5)\n",
    "\n",
    "        # this function returns the loss and grads given the input picture\n",
    "        iterate = K.function([model.input], [loss, grads])\n",
    "\n",
    "        # step size for gradient ascent\n",
    "        step = 5.\n",
    "\n",
    "        img_asc = np.array(img)\n",
    "        # run gradient ascent for 20 steps\n",
    "        for i in range(20):\n",
    "            loss_value, grads_value = iterate([img_asc])\n",
    "            img_asc += grads_value * step\n",
    "\n",
    "        img_asc = img_asc[0]\n",
    "        img_ascs.append(deprocess_image(img_asc).reshape((28, 28)))\n",
    "        \n",
    "    if layer_output.shape[3] >= 35:\n",
    "        plot_x, plot_y = 6, 6\n",
    "    elif layer_output.shape[3] >= 23:\n",
    "        plot_x, plot_y = 4, 6\n",
    "    elif layer_output.shape[3] >= 11:\n",
    "        plot_x, plot_y = 2, 6\n",
    "    else:\n",
    "        plot_x, plot_y = 1, 2\n",
    "    fig, ax = plt.subplots(plot_x, plot_y, figsize = (12, 12))\n",
    "    ax[0, 0].imshow(img.reshape((28, 28)), cmap = 'gray')\n",
    "    ax[0, 0].set_title('Input image')\n",
    "    fig.suptitle('Input image and %s filters' % (layer_name,))\n",
    "    fig.tight_layout(pad = 0.3, rect = [0, 0, 0.9, 0.9])\n",
    "    for (x, y) in [(i, j) for i in range(plot_x) for j in range(plot_y)]:\n",
    "        if x == 0 and y == 0:\n",
    "            continue\n",
    "        ax[x, y].imshow(img_ascs[x * plot_y + y - 1], cmap = 'gray')\n",
    "        ax[x, y].set_title('filter %d' % (x * plot_y + y - 1))\n",
    "\n",
    "vis_img_in_filter()"
   ]
  },
  {
   "cell_type": "code",
   "execution_count": 0,
   "metadata": {
    "colab": {},
    "colab_type": "code",
    "id": "9tvptcn8dxvp"
   },
   "outputs": [],
   "source": []
  }
 ],
 "metadata": {
  "accelerator": "GPU",
  "colab": {
   "collapsed_sections": [],
   "name": "Assignment 1A - Batch 8 - Kaustubh.ipynb",
   "provenance": [],
   "version": "0.3.2"
  },
  "kernelspec": {
   "display_name": "Python 3",
   "language": "python",
   "name": "python3"
  },
  "language_info": {
   "codemirror_mode": {
    "name": "ipython",
    "version": 3
   },
   "file_extension": ".py",
   "mimetype": "text/x-python",
   "name": "python",
   "nbconvert_exporter": "python",
   "pygments_lexer": "ipython3",
   "version": "3.6.8"
  },
  "varInspector": {
   "cols": {
    "lenName": 16,
    "lenType": 16,
    "lenVar": 40
   },
   "kernels_config": {
    "python": {
     "delete_cmd_postfix": "",
     "delete_cmd_prefix": "del ",
     "library": "var_list.py",
     "varRefreshCmd": "print(var_dic_list())"
    },
    "r": {
     "delete_cmd_postfix": ") ",
     "delete_cmd_prefix": "rm(",
     "library": "var_list.r",
     "varRefreshCmd": "cat(var_dic_list()) "
    }
   },
   "types_to_exclude": [
    "module",
    "function",
    "builtin_function_or_method",
    "instance",
    "_Feature"
   ],
   "window_display": false
  }
 },
 "nbformat": 4,
 "nbformat_minor": 1
}
