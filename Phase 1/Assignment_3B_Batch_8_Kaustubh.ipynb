{
 "cells": [
  {
   "cell_type": "code",
   "execution_count": 0,
   "metadata": {
    "colab": {
     "base_uri": "https://localhost:8080/",
     "height": 34
    },
    "colab_type": "code",
    "id": "8edSiHPi2N5l",
    "outputId": "1921d9f2-b657-4a31-aadc-a3577c58234e"
   },
   "outputs": [
    {
     "name": "stderr",
     "output_type": "stream",
     "text": [
      "Using TensorFlow backend.\n"
     ]
    }
   ],
   "source": [
    "# https://keras.io/\n",
    "!pip install -q keras\n",
    "import keras\n",
    "\n",
    "import keras\n",
    "from keras.datasets import cifar10\n",
    "from keras.models import Model, Sequential\n",
    "from keras.layers import Dense, Dropout, Flatten, Input, AveragePooling2D, merge, Activation\n",
    "from keras.layers import Conv2D, MaxPooling2D, BatchNormalization\n",
    "from keras.layers import Concatenate\n",
    "from keras.optimizers import Adam\n",
    "from keras.layers.advanced_activations import LeakyReLU\n",
    "from keras.layers import Reshape, Activation, Conv2D, Input, MaxPooling2D, BatchNormalization, Flatten, Dense, Lambda\n",
    "from keras.layers.merge import concatenate\n",
    "\n",
    "# this part will prevent tensorflow to allocate all the avaliable GPU Memory\n",
    "# backend\n",
    "import tensorflow as tf\n",
    "from keras import backend as k\n",
    "\n",
    "# Don't pre-allocate memory; allocate as-needed\n",
    "config = tf.ConfigProto()\n",
    "config.gpu_options.allow_growth = True\n",
    "\n",
    "# Create a session with the above options specified.\n",
    "k.tensorflow_backend.set_session(tf.Session(config=config))\n",
    "\n",
    "# Hyperparameters\n",
    "batch_size = 128\n",
    "num_classes = 10\n",
    "epochs = 300\n",
    "l = 10\n",
    "num_filter = 20"
   ]
  },
  {
   "cell_type": "code",
   "execution_count": 0,
   "metadata": {
    "colab": {},
    "colab_type": "code",
    "id": "-hkvQwOH2cCO"
   },
   "outputs": [],
   "source": [
    "# Load CIFAR10 Data\n",
    "(x_train, y_train), (x_test, y_test) = cifar10.load_data()\n",
    "img_height, img_width, channel = x_train.shape[1],x_train.shape[2],x_train.shape[3]\n",
    "\n",
    "# convert to one hot encoing \n",
    "y_train = keras.utils.to_categorical(y_train, num_classes)\n",
    "y_test = keras.utils.to_categorical(y_test, num_classes)"
   ]
  },
  {
   "cell_type": "code",
   "execution_count": 0,
   "metadata": {
    "colab": {},
    "colab_type": "code",
    "id": "ztoDypc63gEs"
   },
   "outputs": [],
   "source": [
    "def space_to_depth_x2(x):\n",
    "    return tf.space_to_depth(x, block_size=2)"
   ]
  },
  {
   "cell_type": "code",
   "execution_count": 0,
   "metadata": {
    "colab": {
     "base_uri": "https://localhost:8080/",
     "height": 68
    },
    "colab_type": "code",
    "id": "SNnGm8Tv2fR1",
    "outputId": "e591f053-2da5-44af-854a-91f099358c2f"
   },
   "outputs": [
    {
     "name": "stdout",
     "output_type": "stream",
     "text": [
      "WARNING:tensorflow:From /usr/local/lib/python3.6/dist-packages/tensorflow/python/framework/op_def_library.py:263: colocate_with (from tensorflow.python.framework.ops) is deprecated and will be removed in a future version.\n",
      "Instructions for updating:\n",
      "Colocations handled automatically by placer.\n"
     ]
    }
   ],
   "source": [
    "input = Input(shape=(img_height, img_width, channel,))\n",
    "\n",
    "# Layer 1\n",
    "layer_1 = Conv2D(32, (3,3), strides=(1,1), padding='same', name='conv_1', use_bias=False)(input)\n",
    "layer_1 = BatchNormalization(name='norm_1')(layer_1)\n",
    "layer_1 = LeakyReLU(alpha=0.1)(layer_1)\n",
    "layer_1 = MaxPooling2D(pool_size=(2, 2))(layer_1)\n",
    "\n",
    "# Layer 2\n",
    "layer_2 = Conv2D(64, (3,3), strides=(1,1), padding='same', name='conv_2', use_bias=False)(layer_1)\n",
    "layer_2 = BatchNormalization(name='norm_2')(layer_2)\n",
    "layer_2 = LeakyReLU(alpha=0.1)(layer_2)\n",
    "layer_2 = MaxPooling2D(pool_size=(2, 2))(layer_2)\n",
    "\n",
    "# Layer 3\n",
    "layer_3 = Conv2D(128, (3,3), strides=(1,1), padding='same', name='conv_3', use_bias=False)(layer_2)\n",
    "layer_3 = BatchNormalization(name='norm_3')(layer_3)\n",
    "layer_3 = LeakyReLU(alpha=0.1)(layer_3)\n",
    "\n",
    "# Layer 4\n",
    "layer_4 = Conv2D(64, (1,1), strides=(1,1), padding='same', name='conv_4', use_bias=False)(layer_3)\n",
    "layer_4 = BatchNormalization(name='norm_4')(layer_4)\n",
    "layer_4 = LeakyReLU(alpha=0.1)(layer_4)\n",
    "\n",
    "# Layer 5\n",
    "layer_5 = Conv2D(128, (3,3), strides=(1,1), padding='same', name='conv_5', use_bias=False)(layer_4)\n",
    "layer_5 = BatchNormalization(name='norm_5')(layer_5)\n",
    "layer_5 = LeakyReLU(alpha=0.1)(layer_5)\n",
    "layer_5 = MaxPooling2D(pool_size=(2, 2))(layer_5)\n",
    "\n",
    "# Layer 6\n",
    "layer_6 = Conv2D(256, (3,3), strides=(1,1), padding='same', name='conv_6', use_bias=False)(layer_5)\n",
    "layer_6 = BatchNormalization(name='norm_6')(layer_6)\n",
    "layer_6 = LeakyReLU(alpha=0.1)(layer_6)\n",
    "\n",
    "# Layer 7\n",
    "layer_7 = Conv2D(128, (1,1), strides=(1,1), padding='same', name='conv_7', use_bias=False)(layer_6)\n",
    "layer_7 = BatchNormalization(name='norm_7')(layer_7)\n",
    "layer_7 = LeakyReLU(alpha=0.1)(layer_7)\n",
    "\n",
    "# Layer 8\n",
    "layer_8 = Conv2D(256, (3,3), strides=(1,1), padding='same', name='conv_8', use_bias=False)(layer_7)\n",
    "layer_8 = BatchNormalization(name='norm_8')(layer_8)\n",
    "layer_8 = LeakyReLU(alpha=0.1)(layer_8)\n",
    "layer_8 = MaxPooling2D(pool_size=(2, 2))(layer_8)\n",
    "\n",
    "# Layer 9\n",
    "layer_9 = Conv2D(512, (3,3), strides=(1,1), padding='same', name='conv_9', use_bias=False)(layer_8)\n",
    "layer_9 = BatchNormalization(name='norm_9')(layer_9)\n",
    "layer_9 = LeakyReLU(alpha=0.1)(layer_9)\n",
    "\n",
    "# Layer 10\n",
    "layer_10 = Conv2D(256, (1,1), strides=(1,1), padding='same', name='conv_10', use_bias=False)(layer_9)\n",
    "layer_10 = BatchNormalization(name='norm_10')(layer_10)\n",
    "layer_10 = LeakyReLU(alpha=0.1)(layer_10)\n",
    "\n",
    "# Layer 11\n",
    "layer_11 = Conv2D(512, (3,3), strides=(1,1), padding='same', name='conv_11', use_bias=False)(layer_10)\n",
    "layer_11 = BatchNormalization(name='norm_11')(layer_11)\n",
    "layer_11 = LeakyReLU(alpha=0.1)(layer_11)\n",
    "\n",
    "# Layer 12\n",
    "layer_12 = Conv2D(256, (1,1), strides=(1,1), padding='same', name='conv_12', use_bias=False)(layer_11)\n",
    "layer_12 = BatchNormalization(name='norm_12')(layer_12)\n",
    "layer_12 = LeakyReLU(alpha=0.1)(layer_12)\n",
    "\n",
    "skip_connection = layer_12\n",
    "\n",
    "# Layer 13\n",
    "layer_13 = Conv2D(512, (3,3), strides=(1,1), padding='same', name='conv_13', use_bias=False)(layer_12)\n",
    "layer_13 = BatchNormalization(name='norm_13')(layer_13)\n",
    "layer_13 = LeakyReLU(alpha=0.1)(layer_13)\n",
    "layer_13 = MaxPooling2D(pool_size=(2, 2))(layer_13)\n",
    "\n",
    "# Layer 14\n",
    "layer_14 = Conv2D(1024, (3,3), strides=(1,1), padding='same', name='conv_14', use_bias=False)(layer_13)\n",
    "layer_14 = BatchNormalization(name='norm_14')(layer_14)\n",
    "layer_14 = LeakyReLU(alpha=0.1)(layer_14)\n",
    "\n",
    "# Layer 15\n",
    "layer_15 = Conv2D(512, (1,1), strides=(1,1), padding='same', name='conv_15', use_bias=False)(layer_14)\n",
    "layer_15 = BatchNormalization(name='norm_15')(layer_15)\n",
    "layer_15 = LeakyReLU(alpha=0.1)(layer_15)\n",
    "\n",
    "# Layer 16\n",
    "layer_16 = Conv2D(1024, (3,3), strides=(1,1), padding='same', name='conv_16', use_bias=False)(layer_15)\n",
    "layer_16 = BatchNormalization(name='norm_16')(layer_16)\n",
    "layer_16 = LeakyReLU(alpha=0.1)(layer_16)\n",
    "\n",
    "# Layer 17\n",
    "layer_17 = Conv2D(512, (1,1), strides=(1,1), padding='same', name='conv_17', use_bias=False)(layer_16)\n",
    "layer_17 = BatchNormalization(name='norm_17')(layer_17)\n",
    "layer_17 = LeakyReLU(alpha=0.1)(layer_17)\n",
    "\n",
    "# Layer 18\n",
    "layer_18 = Conv2D(1024, (3,3), strides=(1,1), padding='same', name='conv_18', use_bias=False)(layer_17)\n",
    "layer_18 = BatchNormalization(name='norm_18')(layer_18)\n",
    "layer_18 = LeakyReLU(alpha=0.1)(layer_18)\n",
    "\n",
    "# Layer 19\n",
    "layer_19 = Conv2D(1024, (3,3), strides=(1,1), padding='same', name='conv_19', use_bias=False)(layer_18)\n",
    "layer_19 = BatchNormalization(name='norm_19')(layer_19)\n",
    "layer_19 = LeakyReLU(alpha=0.1)(layer_19)\n",
    "\n",
    "# Layer 20\n",
    "layer_20 = Conv2D(1024, (3,3), strides=(1,1), padding='same', name='conv_20', use_bias=False)(layer_19)\n",
    "layer_20 = BatchNormalization(name='norm_20')(layer_20)\n",
    "layer_20 = LeakyReLU(alpha=0.1)(layer_20)\n",
    "\n",
    "# Layer 21\n",
    "skip_connection = Conv2D(64, (1,1), strides=(1,1), padding='same', name='conv_21', use_bias=False)(skip_connection)\n",
    "skip_connection = BatchNormalization(name='norm_21')(skip_connection)\n",
    "skip_connection = LeakyReLU(alpha=0.1)(skip_connection)\n",
    "skip_connection = Lambda(space_to_depth_x2)(skip_connection)\n",
    "\n",
    "layer_21 = concatenate([skip_connection, layer_20])\n",
    "\n",
    "# Layer 22\n",
    "layer_22 = Conv2D(1024, (3,3), strides=(1,1), padding='same', name='conv_22', use_bias=False)(layer_21)\n",
    "layer_22 = BatchNormalization(name='norm_22')(layer_22)\n",
    "layer_22 = LeakyReLU(alpha=0.1)(layer_22)\n",
    "\n",
    "# Layer 23\n",
    "layer_23 = Flatten()(layer_22)\n",
    "\n",
    "output = Dense(num_classes, activation='softmax')(layer_23)\n",
    "\n"
   ]
  },
  {
   "cell_type": "code",
   "execution_count": 0,
   "metadata": {
    "colab": {
     "base_uri": "https://localhost:8080/",
     "height": 2737
    },
    "colab_type": "code",
    "id": "Jeh0VAxy26NV",
    "outputId": "18286c96-5c0d-4459-dfa1-bdc22700394f"
   },
   "outputs": [
    {
     "name": "stdout",
     "output_type": "stream",
     "text": [
      "__________________________________________________________________________________________________\n",
      "Layer (type)                    Output Shape         Param #     Connected to                     \n",
      "==================================================================================================\n",
      "input_1 (InputLayer)            (None, 32, 32, 3)    0                                            \n",
      "__________________________________________________________________________________________________\n",
      "conv_1 (Conv2D)                 (None, 32, 32, 32)   864         input_1[0][0]                    \n",
      "__________________________________________________________________________________________________\n",
      "norm_1 (BatchNormalization)     (None, 32, 32, 32)   128         conv_1[0][0]                     \n",
      "__________________________________________________________________________________________________\n",
      "leaky_re_lu_1 (LeakyReLU)       (None, 32, 32, 32)   0           norm_1[0][0]                     \n",
      "__________________________________________________________________________________________________\n",
      "max_pooling2d_1 (MaxPooling2D)  (None, 16, 16, 32)   0           leaky_re_lu_1[0][0]              \n",
      "__________________________________________________________________________________________________\n",
      "conv_2 (Conv2D)                 (None, 16, 16, 64)   18432       max_pooling2d_1[0][0]            \n",
      "__________________________________________________________________________________________________\n",
      "norm_2 (BatchNormalization)     (None, 16, 16, 64)   256         conv_2[0][0]                     \n",
      "__________________________________________________________________________________________________\n",
      "leaky_re_lu_2 (LeakyReLU)       (None, 16, 16, 64)   0           norm_2[0][0]                     \n",
      "__________________________________________________________________________________________________\n",
      "max_pooling2d_2 (MaxPooling2D)  (None, 8, 8, 64)     0           leaky_re_lu_2[0][0]              \n",
      "__________________________________________________________________________________________________\n",
      "conv_3 (Conv2D)                 (None, 8, 8, 128)    73728       max_pooling2d_2[0][0]            \n",
      "__________________________________________________________________________________________________\n",
      "norm_3 (BatchNormalization)     (None, 8, 8, 128)    512         conv_3[0][0]                     \n",
      "__________________________________________________________________________________________________\n",
      "leaky_re_lu_3 (LeakyReLU)       (None, 8, 8, 128)    0           norm_3[0][0]                     \n",
      "__________________________________________________________________________________________________\n",
      "conv_4 (Conv2D)                 (None, 8, 8, 64)     8192        leaky_re_lu_3[0][0]              \n",
      "__________________________________________________________________________________________________\n",
      "norm_4 (BatchNormalization)     (None, 8, 8, 64)     256         conv_4[0][0]                     \n",
      "__________________________________________________________________________________________________\n",
      "leaky_re_lu_4 (LeakyReLU)       (None, 8, 8, 64)     0           norm_4[0][0]                     \n",
      "__________________________________________________________________________________________________\n",
      "conv_5 (Conv2D)                 (None, 8, 8, 128)    73728       leaky_re_lu_4[0][0]              \n",
      "__________________________________________________________________________________________________\n",
      "norm_5 (BatchNormalization)     (None, 8, 8, 128)    512         conv_5[0][0]                     \n",
      "__________________________________________________________________________________________________\n",
      "leaky_re_lu_5 (LeakyReLU)       (None, 8, 8, 128)    0           norm_5[0][0]                     \n",
      "__________________________________________________________________________________________________\n",
      "max_pooling2d_3 (MaxPooling2D)  (None, 4, 4, 128)    0           leaky_re_lu_5[0][0]              \n",
      "__________________________________________________________________________________________________\n",
      "conv_6 (Conv2D)                 (None, 4, 4, 256)    294912      max_pooling2d_3[0][0]            \n",
      "__________________________________________________________________________________________________\n",
      "norm_6 (BatchNormalization)     (None, 4, 4, 256)    1024        conv_6[0][0]                     \n",
      "__________________________________________________________________________________________________\n",
      "leaky_re_lu_6 (LeakyReLU)       (None, 4, 4, 256)    0           norm_6[0][0]                     \n",
      "__________________________________________________________________________________________________\n",
      "conv_7 (Conv2D)                 (None, 4, 4, 128)    32768       leaky_re_lu_6[0][0]              \n",
      "__________________________________________________________________________________________________\n",
      "norm_7 (BatchNormalization)     (None, 4, 4, 128)    512         conv_7[0][0]                     \n",
      "__________________________________________________________________________________________________\n",
      "leaky_re_lu_7 (LeakyReLU)       (None, 4, 4, 128)    0           norm_7[0][0]                     \n",
      "__________________________________________________________________________________________________\n",
      "conv_8 (Conv2D)                 (None, 4, 4, 256)    294912      leaky_re_lu_7[0][0]              \n",
      "__________________________________________________________________________________________________\n",
      "norm_8 (BatchNormalization)     (None, 4, 4, 256)    1024        conv_8[0][0]                     \n",
      "__________________________________________________________________________________________________\n",
      "leaky_re_lu_8 (LeakyReLU)       (None, 4, 4, 256)    0           norm_8[0][0]                     \n",
      "__________________________________________________________________________________________________\n",
      "max_pooling2d_4 (MaxPooling2D)  (None, 2, 2, 256)    0           leaky_re_lu_8[0][0]              \n",
      "__________________________________________________________________________________________________\n",
      "conv_9 (Conv2D)                 (None, 2, 2, 512)    1179648     max_pooling2d_4[0][0]            \n",
      "__________________________________________________________________________________________________\n",
      "norm_9 (BatchNormalization)     (None, 2, 2, 512)    2048        conv_9[0][0]                     \n",
      "__________________________________________________________________________________________________\n",
      "leaky_re_lu_9 (LeakyReLU)       (None, 2, 2, 512)    0           norm_9[0][0]                     \n",
      "__________________________________________________________________________________________________\n",
      "conv_10 (Conv2D)                (None, 2, 2, 256)    131072      leaky_re_lu_9[0][0]              \n",
      "__________________________________________________________________________________________________\n",
      "norm_10 (BatchNormalization)    (None, 2, 2, 256)    1024        conv_10[0][0]                    \n",
      "__________________________________________________________________________________________________\n",
      "leaky_re_lu_10 (LeakyReLU)      (None, 2, 2, 256)    0           norm_10[0][0]                    \n",
      "__________________________________________________________________________________________________\n",
      "conv_11 (Conv2D)                (None, 2, 2, 512)    1179648     leaky_re_lu_10[0][0]             \n",
      "__________________________________________________________________________________________________\n",
      "norm_11 (BatchNormalization)    (None, 2, 2, 512)    2048        conv_11[0][0]                    \n",
      "__________________________________________________________________________________________________\n",
      "leaky_re_lu_11 (LeakyReLU)      (None, 2, 2, 512)    0           norm_11[0][0]                    \n",
      "__________________________________________________________________________________________________\n",
      "conv_12 (Conv2D)                (None, 2, 2, 256)    131072      leaky_re_lu_11[0][0]             \n",
      "__________________________________________________________________________________________________\n",
      "norm_12 (BatchNormalization)    (None, 2, 2, 256)    1024        conv_12[0][0]                    \n",
      "__________________________________________________________________________________________________\n",
      "leaky_re_lu_12 (LeakyReLU)      (None, 2, 2, 256)    0           norm_12[0][0]                    \n",
      "__________________________________________________________________________________________________\n",
      "conv_13 (Conv2D)                (None, 2, 2, 512)    1179648     leaky_re_lu_12[0][0]             \n",
      "__________________________________________________________________________________________________\n",
      "norm_13 (BatchNormalization)    (None, 2, 2, 512)    2048        conv_13[0][0]                    \n",
      "__________________________________________________________________________________________________\n",
      "leaky_re_lu_13 (LeakyReLU)      (None, 2, 2, 512)    0           norm_13[0][0]                    \n",
      "__________________________________________________________________________________________________\n",
      "max_pooling2d_5 (MaxPooling2D)  (None, 1, 1, 512)    0           leaky_re_lu_13[0][0]             \n",
      "__________________________________________________________________________________________________\n",
      "conv_14 (Conv2D)                (None, 1, 1, 1024)   4718592     max_pooling2d_5[0][0]            \n",
      "__________________________________________________________________________________________________\n",
      "norm_14 (BatchNormalization)    (None, 1, 1, 1024)   4096        conv_14[0][0]                    \n",
      "__________________________________________________________________________________________________\n",
      "leaky_re_lu_14 (LeakyReLU)      (None, 1, 1, 1024)   0           norm_14[0][0]                    \n",
      "__________________________________________________________________________________________________\n",
      "conv_15 (Conv2D)                (None, 1, 1, 512)    524288      leaky_re_lu_14[0][0]             \n",
      "__________________________________________________________________________________________________\n",
      "norm_15 (BatchNormalization)    (None, 1, 1, 512)    2048        conv_15[0][0]                    \n",
      "__________________________________________________________________________________________________\n",
      "leaky_re_lu_15 (LeakyReLU)      (None, 1, 1, 512)    0           norm_15[0][0]                    \n",
      "__________________________________________________________________________________________________\n",
      "conv_16 (Conv2D)                (None, 1, 1, 1024)   4718592     leaky_re_lu_15[0][0]             \n",
      "__________________________________________________________________________________________________\n",
      "norm_16 (BatchNormalization)    (None, 1, 1, 1024)   4096        conv_16[0][0]                    \n",
      "__________________________________________________________________________________________________\n",
      "leaky_re_lu_16 (LeakyReLU)      (None, 1, 1, 1024)   0           norm_16[0][0]                    \n",
      "__________________________________________________________________________________________________\n",
      "conv_17 (Conv2D)                (None, 1, 1, 512)    524288      leaky_re_lu_16[0][0]             \n",
      "__________________________________________________________________________________________________\n",
      "norm_17 (BatchNormalization)    (None, 1, 1, 512)    2048        conv_17[0][0]                    \n",
      "__________________________________________________________________________________________________\n",
      "leaky_re_lu_17 (LeakyReLU)      (None, 1, 1, 512)    0           norm_17[0][0]                    \n",
      "__________________________________________________________________________________________________\n",
      "conv_18 (Conv2D)                (None, 1, 1, 1024)   4718592     leaky_re_lu_17[0][0]             \n",
      "__________________________________________________________________________________________________\n",
      "norm_18 (BatchNormalization)    (None, 1, 1, 1024)   4096        conv_18[0][0]                    \n",
      "__________________________________________________________________________________________________\n",
      "leaky_re_lu_18 (LeakyReLU)      (None, 1, 1, 1024)   0           norm_18[0][0]                    \n",
      "__________________________________________________________________________________________________\n",
      "conv_19 (Conv2D)                (None, 1, 1, 1024)   9437184     leaky_re_lu_18[0][0]             \n",
      "__________________________________________________________________________________________________\n",
      "norm_19 (BatchNormalization)    (None, 1, 1, 1024)   4096        conv_19[0][0]                    \n",
      "__________________________________________________________________________________________________\n",
      "conv_21 (Conv2D)                (None, 2, 2, 64)     16384       leaky_re_lu_12[0][0]             \n",
      "__________________________________________________________________________________________________\n",
      "leaky_re_lu_19 (LeakyReLU)      (None, 1, 1, 1024)   0           norm_19[0][0]                    \n",
      "__________________________________________________________________________________________________\n",
      "norm_21 (BatchNormalization)    (None, 2, 2, 64)     256         conv_21[0][0]                    \n",
      "__________________________________________________________________________________________________\n",
      "conv_20 (Conv2D)                (None, 1, 1, 1024)   9437184     leaky_re_lu_19[0][0]             \n",
      "__________________________________________________________________________________________________\n",
      "leaky_re_lu_21 (LeakyReLU)      (None, 2, 2, 64)     0           norm_21[0][0]                    \n",
      "__________________________________________________________________________________________________\n",
      "norm_20 (BatchNormalization)    (None, 1, 1, 1024)   4096        conv_20[0][0]                    \n",
      "__________________________________________________________________________________________________\n",
      "lambda_1 (Lambda)               (None, 1, 1, 256)    0           leaky_re_lu_21[0][0]             \n",
      "__________________________________________________________________________________________________\n",
      "leaky_re_lu_20 (LeakyReLU)      (None, 1, 1, 1024)   0           norm_20[0][0]                    \n",
      "__________________________________________________________________________________________________\n",
      "concatenate_1 (Concatenate)     (None, 1, 1, 1280)   0           lambda_1[0][0]                   \n",
      "                                                                 leaky_re_lu_20[0][0]             \n",
      "__________________________________________________________________________________________________\n",
      "conv_22 (Conv2D)                (None, 1, 1, 1024)   11796480    concatenate_1[0][0]              \n",
      "__________________________________________________________________________________________________\n",
      "norm_22 (BatchNormalization)    (None, 1, 1, 1024)   4096        conv_22[0][0]                    \n",
      "__________________________________________________________________________________________________\n",
      "leaky_re_lu_22 (LeakyReLU)      (None, 1, 1, 1024)   0           norm_22[0][0]                    \n",
      "__________________________________________________________________________________________________\n",
      "flatten_1 (Flatten)             (None, 1024)         0           leaky_re_lu_22[0][0]             \n",
      "__________________________________________________________________________________________________\n",
      "dense_1 (Dense)                 (None, 10)           10250       flatten_1[0][0]                  \n",
      "==================================================================================================\n",
      "Total params: 50,541,802\n",
      "Trainable params: 50,521,130\n",
      "Non-trainable params: 20,672\n",
      "__________________________________________________________________________________________________\n"
     ]
    }
   ],
   "source": [
    "model = Model(inputs=[input], outputs=[output])\n",
    "model.summary()"
   ]
  },
  {
   "cell_type": "code",
   "execution_count": 0,
   "metadata": {
    "colab": {},
    "colab_type": "code",
    "id": "apCwOjvZ4Kts"
   },
   "outputs": [],
   "source": [
    "# determine Loss function and Optimizer\n",
    "model.compile(loss='categorical_crossentropy',\n",
    "              optimizer=Adam(),\n",
    "              metrics=['accuracy'])"
   ]
  },
  {
   "cell_type": "code",
   "execution_count": 0,
   "metadata": {
    "colab": {
     "base_uri": "https://localhost:8080/",
     "height": 1802
    },
    "colab_type": "code",
    "id": "tLaFy2AO4TLl",
    "outputId": "3d90c908-8df7-49f8-e433-7b377d35835c"
   },
   "outputs": [
    {
     "name": "stdout",
     "output_type": "stream",
     "text": [
      "WARNING:tensorflow:From /usr/local/lib/python3.6/dist-packages/tensorflow/python/ops/math_ops.py:3066: to_int32 (from tensorflow.python.ops.math_ops) is deprecated and will be removed in a future version.\n",
      "Instructions for updating:\n",
      "Use tf.cast instead.\n",
      "Train on 50000 samples, validate on 10000 samples\n",
      "Epoch 1/50\n",
      "50000/50000 [==============================] - 103s 2ms/step - loss: 1.4509 - acc: 0.4768 - val_loss: 2.9407 - val_acc: 0.2981\n",
      "Epoch 2/50\n",
      "50000/50000 [==============================] - 92s 2ms/step - loss: 0.9850 - acc: 0.6516 - val_loss: 10.2484 - val_acc: 0.1930\n",
      "Epoch 3/50\n",
      "50000/50000 [==============================] - 92s 2ms/step - loss: 0.7837 - acc: 0.7253 - val_loss: 1.2645 - val_acc: 0.6093\n",
      "Epoch 4/50\n",
      "50000/50000 [==============================] - 92s 2ms/step - loss: 0.6511 - acc: 0.7738 - val_loss: 0.9874 - val_acc: 0.6762\n",
      "Epoch 5/50\n",
      "50000/50000 [==============================] - 92s 2ms/step - loss: 0.5583 - acc: 0.8068 - val_loss: 0.7494 - val_acc: 0.7524\n",
      "Epoch 6/50\n",
      "50000/50000 [==============================] - 92s 2ms/step - loss: 0.4728 - acc: 0.8370 - val_loss: 1.0895 - val_acc: 0.6907\n",
      "Epoch 7/50\n",
      "50000/50000 [==============================] - 92s 2ms/step - loss: 0.4064 - acc: 0.8607 - val_loss: 1.4170 - val_acc: 0.6289\n",
      "Epoch 8/50\n",
      "50000/50000 [==============================] - 92s 2ms/step - loss: 0.3524 - acc: 0.8784 - val_loss: 1.1344 - val_acc: 0.6933\n",
      "Epoch 9/50\n",
      "50000/50000 [==============================] - 92s 2ms/step - loss: 0.3012 - acc: 0.8949 - val_loss: 0.9362 - val_acc: 0.7400\n",
      "Epoch 10/50\n",
      "50000/50000 [==============================] - 92s 2ms/step - loss: 0.2590 - acc: 0.9093 - val_loss: 0.8113 - val_acc: 0.7612\n",
      "Epoch 11/50\n",
      "50000/50000 [==============================] - 92s 2ms/step - loss: 0.2293 - acc: 0.9210 - val_loss: 0.9104 - val_acc: 0.7444\n",
      "Epoch 12/50\n",
      "50000/50000 [==============================] - 92s 2ms/step - loss: 0.1954 - acc: 0.9318 - val_loss: 0.9685 - val_acc: 0.7585\n",
      "Epoch 13/50\n",
      "50000/50000 [==============================] - 92s 2ms/step - loss: 0.1586 - acc: 0.9436 - val_loss: 0.8844 - val_acc: 0.7726\n",
      "Epoch 14/50\n",
      "50000/50000 [==============================] - 92s 2ms/step - loss: 0.1475 - acc: 0.9489 - val_loss: 1.4808 - val_acc: 0.6684\n",
      "Epoch 15/50\n",
      "50000/50000 [==============================] - 92s 2ms/step - loss: 0.1262 - acc: 0.9555 - val_loss: 1.0547 - val_acc: 0.7541\n",
      "Epoch 16/50\n",
      "50000/50000 [==============================] - 92s 2ms/step - loss: 0.1148 - acc: 0.9596 - val_loss: 1.2318 - val_acc: 0.7142\n",
      "Epoch 17/50\n",
      "50000/50000 [==============================] - 92s 2ms/step - loss: 0.1010 - acc: 0.9643 - val_loss: 0.9745 - val_acc: 0.7683\n",
      "Epoch 18/50\n",
      "50000/50000 [==============================] - 92s 2ms/step - loss: 0.1023 - acc: 0.9643 - val_loss: 1.2637 - val_acc: 0.7290\n",
      "Epoch 19/50\n",
      "50000/50000 [==============================] - 91s 2ms/step - loss: 0.0999 - acc: 0.9656 - val_loss: 1.0172 - val_acc: 0.7744\n",
      "Epoch 20/50\n",
      "50000/50000 [==============================] - 92s 2ms/step - loss: 0.0805 - acc: 0.9716 - val_loss: 1.2680 - val_acc: 0.7347\n",
      "Epoch 21/50\n",
      "50000/50000 [==============================] - 92s 2ms/step - loss: 0.0738 - acc: 0.9748 - val_loss: 1.1363 - val_acc: 0.7631\n",
      "Epoch 22/50\n",
      "50000/50000 [==============================] - 91s 2ms/step - loss: 0.0735 - acc: 0.9735 - val_loss: 1.1803 - val_acc: 0.7495\n",
      "Epoch 23/50\n",
      "50000/50000 [==============================] - 92s 2ms/step - loss: 0.0710 - acc: 0.9758 - val_loss: 1.0845 - val_acc: 0.7760\n",
      "Epoch 24/50\n",
      "50000/50000 [==============================] - 92s 2ms/step - loss: 0.0661 - acc: 0.9774 - val_loss: 1.0506 - val_acc: 0.7762\n",
      "Epoch 25/50\n",
      "50000/50000 [==============================] - 91s 2ms/step - loss: 0.0621 - acc: 0.9780 - val_loss: 1.0324 - val_acc: 0.7781\n",
      "Epoch 26/50\n",
      "50000/50000 [==============================] - 91s 2ms/step - loss: 0.0628 - acc: 0.9787 - val_loss: 1.1281 - val_acc: 0.7709\n",
      "Epoch 27/50\n",
      "50000/50000 [==============================] - 91s 2ms/step - loss: 0.0597 - acc: 0.9797 - val_loss: 1.4795 - val_acc: 0.7290\n",
      "Epoch 28/50\n",
      "50000/50000 [==============================] - 92s 2ms/step - loss: 0.0575 - acc: 0.9802 - val_loss: 1.0662 - val_acc: 0.7803\n",
      "Epoch 29/50\n",
      "50000/50000 [==============================] - 92s 2ms/step - loss: 0.0523 - acc: 0.9827 - val_loss: 1.2558 - val_acc: 0.7529\n",
      "Epoch 30/50\n",
      "50000/50000 [==============================] - 92s 2ms/step - loss: 0.0460 - acc: 0.9841 - val_loss: 1.1434 - val_acc: 0.7734\n",
      "Epoch 31/50\n",
      "50000/50000 [==============================] - 92s 2ms/step - loss: 0.0479 - acc: 0.9839 - val_loss: 1.2390 - val_acc: 0.7598\n",
      "Epoch 32/50\n",
      "50000/50000 [==============================] - 92s 2ms/step - loss: 0.0477 - acc: 0.9833 - val_loss: 1.3344 - val_acc: 0.7386\n",
      "Epoch 33/50\n",
      "50000/50000 [==============================] - 92s 2ms/step - loss: 0.0818 - acc: 0.9744 - val_loss: 1.0651 - val_acc: 0.7769\n",
      "Epoch 34/50\n",
      "50000/50000 [==============================] - 92s 2ms/step - loss: 0.1185 - acc: 0.9614 - val_loss: 0.9565 - val_acc: 0.7830\n",
      "Epoch 35/50\n",
      "50000/50000 [==============================] - 92s 2ms/step - loss: 0.0400 - acc: 0.9863 - val_loss: 1.2569 - val_acc: 0.7681\n",
      "Epoch 36/50\n",
      "50000/50000 [==============================] - 92s 2ms/step - loss: 0.0325 - acc: 0.9886 - val_loss: 1.3189 - val_acc: 0.7659\n",
      "Epoch 37/50\n",
      "50000/50000 [==============================] - 92s 2ms/step - loss: 0.0329 - acc: 0.9887 - val_loss: 1.1599 - val_acc: 0.7906\n",
      "Epoch 38/50\n",
      "50000/50000 [==============================] - 92s 2ms/step - loss: 0.0354 - acc: 0.9874 - val_loss: 1.1426 - val_acc: 0.7848\n",
      "Epoch 39/50\n",
      "50000/50000 [==============================] - 92s 2ms/step - loss: 0.0322 - acc: 0.9890 - val_loss: 1.2982 - val_acc: 0.7654\n",
      "Epoch 40/50\n",
      "50000/50000 [==============================] - 92s 2ms/step - loss: 0.0348 - acc: 0.9882 - val_loss: 1.0607 - val_acc: 0.7873\n",
      "Epoch 41/50\n",
      "50000/50000 [==============================] - 92s 2ms/step - loss: 0.0375 - acc: 0.9874 - val_loss: 1.2431 - val_acc: 0.7741\n",
      "Epoch 42/50\n",
      "50000/50000 [==============================] - 91s 2ms/step - loss: 0.0383 - acc: 0.9871 - val_loss: 1.1020 - val_acc: 0.7825\n",
      "Epoch 43/50\n",
      "50000/50000 [==============================] - 91s 2ms/step - loss: 0.0368 - acc: 0.9876 - val_loss: 1.0824 - val_acc: 0.7918\n",
      "Epoch 44/50\n",
      "50000/50000 [==============================] - 91s 2ms/step - loss: 0.0310 - acc: 0.9896 - val_loss: 1.1685 - val_acc: 0.7877\n",
      "Epoch 45/50\n",
      "50000/50000 [==============================] - 91s 2ms/step - loss: 0.0336 - acc: 0.9886 - val_loss: 1.2838 - val_acc: 0.7675\n",
      "Epoch 46/50\n",
      "50000/50000 [==============================] - 91s 2ms/step - loss: 0.0291 - acc: 0.9904 - val_loss: 1.2282 - val_acc: 0.7789\n",
      "Epoch 47/50\n",
      "50000/50000 [==============================] - 91s 2ms/step - loss: 0.0518 - acc: 0.9835 - val_loss: 1.0620 - val_acc: 0.7942\n",
      "Epoch 48/50\n",
      "50000/50000 [==============================] - 91s 2ms/step - loss: 0.0325 - acc: 0.9895 - val_loss: 1.1711 - val_acc: 0.7826\n",
      "Epoch 49/50\n",
      "50000/50000 [==============================] - 91s 2ms/step - loss: 0.0271 - acc: 0.9913 - val_loss: 1.1672 - val_acc: 0.7861\n",
      "Epoch 50/50\n",
      "50000/50000 [==============================] - 91s 2ms/step - loss: 0.0336 - acc: 0.9888 - val_loss: 1.8453 - val_acc: 0.6859\n"
     ]
    },
    {
     "data": {
      "text/plain": [
       "<keras.callbacks.History at 0x7fa8f6014588>"
      ]
     },
     "execution_count": 7,
     "metadata": {
      "tags": []
     },
     "output_type": "execute_result"
    }
   ],
   "source": [
    "model.fit(x_train, y_train,\n",
    "                    batch_size=batch_size,\n",
    "                    epochs=50,\n",
    "                    verbose=1,\n",
    "                    validation_data=(x_test, y_test))"
   ]
  },
  {
   "cell_type": "code",
   "execution_count": 0,
   "metadata": {
    "colab": {
     "base_uri": "https://localhost:8080/",
     "height": 85
    },
    "colab_type": "code",
    "id": "pTfZIGrf4Uyd",
    "outputId": "c5efe5e5-1048-49a4-f6bf-5ad0209e83f8"
   },
   "outputs": [
    {
     "name": "stdout",
     "output_type": "stream",
     "text": [
      "10000/10000 [==============================] - 9s 919us/step\n",
      "Test loss: 1.8452810724258424\n",
      "Test accuracy: 0.6859\n",
      "Saved the model to disk\n"
     ]
    }
   ],
   "source": [
    "# Test the model\n",
    "score = model.evaluate(x_test, y_test, verbose=1)\n",
    "print('Test loss:', score[0])\n",
    "print('Test accuracy:', score[1])\n",
    "# Save the trained weights in to .h5 format\n",
    "model.save_weights(\"Yolo_Basic_model2.h5\")\n",
    "print(\"Saved the model to disk\")"
   ]
  },
  {
   "cell_type": "code",
   "execution_count": 0,
   "metadata": {
    "colab": {
     "base_uri": "https://localhost:8080/",
     "height": 459,
     "resources": {
      "http://localhost:23912/content/Yolo_Basic_model2.h5": {
       "data": "CjwhRE9DVFlQRSBodG1sPgo8aHRtbCBsYW5nPWVuPgogIDxtZXRhIGNoYXJzZXQ9dXRmLTg+CiAgPG1ldGEgbmFtZT12aWV3cG9ydCBjb250ZW50PSJpbml0aWFsLXNjYWxlPTEsIG1pbmltdW0tc2NhbGU9MSwgd2lkdGg9ZGV2aWNlLXdpZHRoIj4KICA8dGl0bGU+RXJyb3IgNTAwIChJbnRlcm5hbCBTZXJ2ZXIgRXJyb3IpISExPC90aXRsZT4KICA8c3R5bGU+CiAgICAqe21hcmdpbjowO3BhZGRpbmc6MH1odG1sLGNvZGV7Zm9udDoxNXB4LzIycHggYXJpYWwsc2Fucy1zZXJpZn1odG1se2JhY2tncm91bmQ6I2ZmZjtjb2xvcjojMjIyO3BhZGRpbmc6MTVweH1ib2R5e21hcmdpbjo3JSBhdXRvIDA7bWF4LXdpZHRoOjM5MHB4O21pbi1oZWlnaHQ6MTgwcHg7cGFkZGluZzozMHB4IDAgMTVweH0qID4gYm9keXtiYWNrZ3JvdW5kOnVybCgvL3d3dy5nb29nbGUuY29tL2ltYWdlcy9lcnJvcnMvcm9ib3QucG5nKSAxMDAlIDVweCBuby1yZXBlYXQ7cGFkZGluZy1yaWdodDoyMDVweH1we21hcmdpbjoxMXB4IDAgMjJweDtvdmVyZmxvdzpoaWRkZW59aW5ze2NvbG9yOiM3Nzc7dGV4dC1kZWNvcmF0aW9uOm5vbmV9YSBpbWd7Ym9yZGVyOjB9QG1lZGlhIHNjcmVlbiBhbmQgKG1heC13aWR0aDo3NzJweCl7Ym9keXtiYWNrZ3JvdW5kOm5vbmU7bWFyZ2luLXRvcDowO21heC13aWR0aDpub25lO3BhZGRpbmctcmlnaHQ6MH19I2xvZ297YmFja2dyb3VuZDp1cmwoLy93d3cuZ29vZ2xlLmNvbS9pbWFnZXMvbG9nb3MvZXJyb3JwYWdlL2Vycm9yX2xvZ28tMTUweDU0LnBuZykgbm8tcmVwZWF0O21hcmdpbi1sZWZ0Oi01cHh9QG1lZGlhIG9ubHkgc2NyZWVuIGFuZCAobWluLXJlc29sdXRpb246MTkyZHBpKXsjbG9nb3tiYWNrZ3JvdW5kOnVybCgvL3d3dy5nb29nbGUuY29tL2ltYWdlcy9sb2dvcy9lcnJvcnBhZ2UvZXJyb3JfbG9nby0xNTB4NTQtMngucG5nKSBuby1yZXBlYXQgMCUgMCUvMTAwJSAxMDAlOy1tb3otYm9yZGVyLWltYWdlOnVybCgvL3d3dy5nb29nbGUuY29tL2ltYWdlcy9sb2dvcy9lcnJvcnBhZ2UvZXJyb3JfbG9nby0xNTB4NTQtMngucG5nKSAwfX1AbWVkaWEgb25seSBzY3JlZW4gYW5kICgtd2Via2l0LW1pbi1kZXZpY2UtcGl4ZWwtcmF0aW86Mil7I2xvZ297YmFja2dyb3VuZDp1cmwoLy93d3cuZ29vZ2xlLmNvbS9pbWFnZXMvbG9nb3MvZXJyb3JwYWdlL2Vycm9yX2xvZ28tMTUweDU0LTJ4LnBuZykgbm8tcmVwZWF0Oy13ZWJraXQtYmFja2dyb3VuZC1zaXplOjEwMCUgMTAwJX19I2xvZ297ZGlzcGxheTppbmxpbmUtYmxvY2s7aGVpZ2h0OjU0cHg7d2lkdGg6MTUwcHh9CiAgPC9zdHlsZT4KICA8YSBocmVmPS8vd3d3Lmdvb2dsZS5jb20vPjxzcGFuIGlkPWxvZ28gYXJpYS1sYWJlbD1Hb29nbGU+PC9zcGFuPjwvYT4KICA8cD48Yj41MDAuPC9iPiA8aW5zPlRoYXTigJlzIGFuIGVycm9yLjwvaW5zPgogIDxwPiAgPGlucz5UaGF04oCZcyBhbGwgd2Uga25vdy48L2lucz4K",
       "headers": [
        [
         "content-length",
         "1461"
        ],
        [
         "content-type",
         "text/html; charset=utf-8"
        ]
       ],
       "ok": false,
       "status": 500,
       "status_text": ""
      }
     }
    },
    "colab_type": "code",
    "id": "Jiyb9TlVGsZs",
    "outputId": "42638049-6150-408a-9464-36059d34c26f"
   },
   "outputs": [
    {
     "name": "stdout",
     "output_type": "stream",
     "text": [
      "Saved the model to disk\n"
     ]
    },
    {
     "name": "stderr",
     "output_type": "stream",
     "text": [
      "----------------------------------------\n",
      "Exception happened during processing of request from ('::ffff:127.0.0.1', 47286, 0, 0)\n",
      "Traceback (most recent call last):\n",
      "  File \"/usr/lib/python3.6/socketserver.py\", line 317, in _handle_request_noblock\n",
      "    self.process_request(request, client_address)\n",
      "  File \"/usr/lib/python3.6/socketserver.py\", line 348, in process_request\n",
      "    self.finish_request(request, client_address)\n",
      "  File \"/usr/lib/python3.6/socketserver.py\", line 361, in finish_request\n",
      "    self.RequestHandlerClass(request, client_address, self)\n",
      "  File \"/usr/lib/python3.6/socketserver.py\", line 721, in __init__\n",
      "    self.handle()\n",
      "  File \"/usr/lib/python3.6/http/server.py\", line 418, in handle\n",
      "    self.handle_one_request()\n",
      "  File \"/usr/lib/python3.6/http/server.py\", line 406, in handle_one_request\n",
      "    method()\n",
      "  File \"/usr/lib/python3.6/http/server.py\", line 639, in do_GET\n",
      "    self.copyfile(f, self.wfile)\n",
      "  File \"/usr/lib/python3.6/http/server.py\", line 800, in copyfile\n",
      "    shutil.copyfileobj(source, outputfile)\n",
      "  File \"/usr/lib/python3.6/shutil.py\", line 82, in copyfileobj\n",
      "    fdst.write(buf)\n",
      "  File \"/usr/lib/python3.6/socketserver.py\", line 800, in write\n",
      "    self._sock.sendall(b)\n",
      "ConnectionResetError: [Errno 104] Connection reset by peer\n",
      "----------------------------------------\n"
     ]
    }
   ],
   "source": [
    "model.save_weights(\"Yolo_Basic_model2.h5\")\n",
    "print(\"Saved the model to disk\")\n",
    "from google.colab import files\n",
    "\n",
    "files.download('Yolo_Basic_model2.h5')"
   ]
  },
  {
   "cell_type": "code",
   "execution_count": 0,
   "metadata": {
    "colab": {},
    "colab_type": "code",
    "id": "g9A3pesKbUJ8"
   },
   "outputs": [],
   "source": []
  }
 ],
 "metadata": {
  "accelerator": "GPU",
  "colab": {
   "collapsed_sections": [],
   "name": "Assignment 3B - Batch 8 - Kaustubh.ipynb",
   "provenance": [],
   "version": "0.3.2"
  },
  "kernelspec": {
   "display_name": "Python 3",
   "language": "python",
   "name": "python3"
  },
  "language_info": {
   "codemirror_mode": {
    "name": "ipython",
    "version": 3
   },
   "file_extension": ".py",
   "mimetype": "text/x-python",
   "name": "python",
   "nbconvert_exporter": "python",
   "pygments_lexer": "ipython3",
   "version": "3.6.8"
  },
  "varInspector": {
   "cols": {
    "lenName": 16,
    "lenType": 16,
    "lenVar": 40
   },
   "kernels_config": {
    "python": {
     "delete_cmd_postfix": "",
     "delete_cmd_prefix": "del ",
     "library": "var_list.py",
     "varRefreshCmd": "print(var_dic_list())"
    },
    "r": {
     "delete_cmd_postfix": ") ",
     "delete_cmd_prefix": "rm(",
     "library": "var_list.r",
     "varRefreshCmd": "cat(var_dic_list()) "
    }
   },
   "types_to_exclude": [
    "module",
    "function",
    "builtin_function_or_method",
    "instance",
    "_Feature"
   ],
   "window_display": false
  }
 },
 "nbformat": 4,
 "nbformat_minor": 1
}
